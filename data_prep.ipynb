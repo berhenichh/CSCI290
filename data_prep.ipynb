{
 "cells": [
  {
   "cell_type": "code",
   "execution_count": 4,
   "id": "a5cfd35b",
   "metadata": {},
   "outputs": [],
   "source": [
    "import torch\n",
    "import tiktoken"
   ]
  },
  {
   "cell_type": "code",
   "execution_count": 5,
   "id": "d4b56bad",
   "metadata": {},
   "outputs": [
    {
     "data": {
      "text/plain": [
       "\"'My Lord Chancellor,\\n\\n'When I consider the Affair \""
      ]
     },
     "execution_count": 5,
     "metadata": {},
     "output_type": "execute_result"
    }
   ],
   "source": [
    "with open( \"datashort_story2.txt\", \"r\" ) as f:\n",
    "    raw_text = f.read()\n",
    "\n",
    "raw_text[:50]"
   ]
  },
  {
   "cell_type": "code",
   "execution_count": 6,
   "id": "6308daeb",
   "metadata": {},
   "outputs": [],
   "source": [
    "tokenizer = tiktoken.get_encoding(\"gpt2\")"
   ]
  },
  {
   "cell_type": "code",
   "execution_count": 7,
   "id": "72db6aad",
   "metadata": {},
   "outputs": [],
   "source": [
    "enc_text = tokenizer.encode(raw_text)"
   ]
  },
  {
   "cell_type": "code",
   "execution_count": 8,
   "id": "8ac8088d",
   "metadata": {},
   "outputs": [
    {
     "name": "stdout",
     "output_type": "stream",
     "text": [
      "[6, 3666, 4453, 19477, 11, 198, 198, 6, 2215, 314, 2074, 262, 6708, 958, 286, 281, 4479, 731, 86, 6346]\n"
     ]
    }
   ],
   "source": [
    "print(enc_text[:20])"
   ]
  },
  {
   "cell_type": "code",
   "execution_count": 9,
   "id": "f6d69ffc",
   "metadata": {},
   "outputs": [
    {
     "name": "stdout",
     "output_type": "stream",
     "text": [
      "'My\n"
     ]
    }
   ],
   "source": [
    "print( tokenizer.decode( enc_text[:2]))"
   ]
  },
  {
   "cell_type": "code",
   "execution_count": 10,
   "id": "1a834191",
   "metadata": {},
   "outputs": [
    {
     "data": {
      "text/plain": [
       "7407"
      ]
     },
     "execution_count": 10,
     "metadata": {},
     "output_type": "execute_result"
    }
   ],
   "source": [
    "len( enc_text)"
   ]
  },
  {
   "cell_type": "code",
   "execution_count": 11,
   "id": "85bc9f99",
   "metadata": {},
   "outputs": [
    {
     "name": "stdout",
     "output_type": "stream",
     "text": [
      "Input: ' Target: My\n",
      "Input: 'My Target:  Lord\n",
      "Input: 'My Lord Target:  Chancellor\n",
      "Input: 'My Lord Chancellor Target: ,\n",
      "Input: 'My Lord Chancellor, Target: \n",
      "\n",
      "Input: 'My Lord Chancellor,\n",
      " Target: \n",
      "\n",
      "Input: 'My Lord Chancellor,\n",
      "\n",
      " Target: '\n",
      "Input: 'My Lord Chancellor,\n",
      "\n",
      "' Target: When\n",
      "Input: 'My Lord Chancellor,\n",
      "\n",
      "'When Target:  I\n"
     ]
    }
   ],
   "source": [
    "for i in range(1,10):\n",
    "    print(\"Input:\", tokenizer.decode(enc_text[:i]), \"Target:\", tokenizer.decode([enc_text[i]]))"
   ]
  },
  {
   "cell_type": "code",
   "execution_count": 12,
   "id": "8af40fbb",
   "metadata": {},
   "outputs": [],
   "source": [
    "from torch.utils.data import Dataset, DataLoader\n",
    "\n",
    "\n",
    "class GPTDatasetV1(Dataset):\n",
    "    def __init__(self, txt, tokenizer, max_length, stride):\n",
    "        self.input_ids = []\n",
    "        self.target_ids = []\n",
    "\n",
    "        # Tokenize the entire text\n",
    "        token_ids = tokenizer.encode(txt, allowed_special={\"<|endoftext|>\"})\n",
    "        assert len(token_ids) > max_length, \"Number of tokenized inputs must at least be equal to max_length+1\"\n",
    "\n",
    "        # Use a sliding window to chunk the book into overlapping sequences of max_length\n",
    "        for i in range(0, len(token_ids) - max_length, stride):\n",
    "            input_chunk = token_ids[i:i + max_length]\n",
    "            target_chunk = token_ids[i + 1: i + max_length + 1]\n",
    "            self.input_ids.append(torch.tensor(input_chunk))\n",
    "            self.target_ids.append(torch.tensor(target_chunk))\n",
    "\n",
    "    def __len__(self):\n",
    "        return len(self.input_ids)\n",
    "\n",
    "    def __getitem__(self, idx):\n",
    "        return self.input_ids[idx], self.target_ids[idx]"
   ]
  },
  {
   "cell_type": "code",
   "execution_count": 13,
   "id": "4d7782f9",
   "metadata": {},
   "outputs": [],
   "source": [
    "def create_dataloader_v1(txt, batch_size=4, max_length=256, \n",
    "                         stride=128, shuffle=True, drop_last=True,\n",
    "                         num_workers=0):\n",
    "\n",
    "    # Initialize the tokenizer\n",
    "    tokenizer = tiktoken.get_encoding(\"gpt2\")\n",
    "\n",
    "    # Create dataset\n",
    "    dataset = GPTDatasetV1(txt, tokenizer, max_length, stride)\n",
    "\n",
    "    # Create dataloader\n",
    "    dataloader = DataLoader(\n",
    "        dataset,\n",
    "        batch_size=batch_size,\n",
    "        shuffle=shuffle,\n",
    "        drop_last=drop_last,\n",
    "        num_workers=num_workers\n",
    "    )\n",
    "\n",
    "    return dataloader"
   ]
  },
  {
   "cell_type": "code",
   "execution_count": 14,
   "id": "e3d9d245",
   "metadata": {},
   "outputs": [
    {
     "name": "stdout",
     "output_type": "stream",
     "text": [
      "Inputs:\n",
      " tensor([[    6,  3666,  4453, 19477],\n",
      "        [   11,   198,   198,     6],\n",
      "        [ 2215,   314,  2074,   262],\n",
      "        [ 6708,   958,   286,   281],\n",
      "        [ 4479,   731,    86,  6346],\n",
      "        [  262,   734,  7973,    11],\n",
      "        [  355,   340,   318,  6241],\n",
      "        [  287,   262,  1811, 22698]])\n",
      "\n",
      "Targets:\n",
      " tensor([[ 3666,  4453, 19477,    11],\n",
      "        [  198,   198,     6,  2215],\n",
      "        [  314,  2074,   262,  6708],\n",
      "        [  958,   286,   281,  4479],\n",
      "        [  731,    86,  6346,   262],\n",
      "        [  734,  7973,    11,   355],\n",
      "        [  340,   318,  6241,   287],\n",
      "        [  262,  1811, 22698, 15370]])\n"
     ]
    }
   ],
   "source": [
    "dataloader = create_dataloader_v1(raw_text, batch_size=8, max_length=4, stride=4, shuffle=False)\n",
    "\n",
    "data_iter = iter(dataloader)\n",
    "inputs, targets = next(data_iter)\n",
    "print(\"Inputs:\\n\", inputs)\n",
    "print(\"\\nTargets:\\n\", targets)"
   ]
  },
  {
   "cell_type": "code",
   "execution_count": 15,
   "id": "257b0d8b",
   "metadata": {},
   "outputs": [
    {
     "name": "stdout",
     "output_type": "stream",
     "text": [
      "'My Lord Chancellor\n",
      ",\n",
      "\n",
      "'\n",
      "When I consider the\n",
      " Affair of an\n",
      " Union betwixt\n",
      " the two Nations,\n",
      " as it is expressed\n",
      " in the several Articles\n"
     ]
    }
   ],
   "source": [
    "# to apply the tokenizer's decoder to these IDs, the rows of the tensor `inputs` have to be converted into lists:\n",
    "for row in inputs:\n",
    "    print( tokenizer.decode( row.tolist() ) )"
   ]
  },
  {
   "cell_type": "code",
   "execution_count": 16,
   "id": "e72c0c82",
   "metadata": {},
   "outputs": [
    {
     "name": "stdout",
     "output_type": "stream",
     "text": [
      "Parameter containing:\n",
      "tensor([[ 0.6212, -1.9226,  0.6053],\n",
      "        [-0.9871,  1.4469, -0.2937],\n",
      "        [-0.6023,  0.8544, -0.8292],\n",
      "        [ 1.3791,  0.8162, -0.8097],\n",
      "        [-0.2344, -0.4387, -0.3451],\n",
      "        [ 0.4634,  0.2932,  1.0250]], requires_grad=True)\n"
     ]
    }
   ],
   "source": [
    "# we don't send these IDs to the LLM for training; we associate a vector a.k.a. tensor with each ID and then train the LLM on the vectors\n",
    "# as a first example, let's create embedding vectors of length 3 for each token in a vocabulary of 6 tokens\n",
    "vocab_size = 6\n",
    "output_dim = 3\n",
    "embedding = torch.nn.Embedding( vocab_size, output_dim )\n",
    "print(embedding.weight)"
   ]
  },
  {
   "cell_type": "code",
   "execution_count": 17,
   "id": "6cc495c8",
   "metadata": {},
   "outputs": [
    {
     "data": {
      "text/plain": [
       "tensor([[ 0.6212, -1.9226,  0.6053],\n",
       "        [-0.9871,  1.4469, -0.2937],\n",
       "        [-0.6023,  0.8544, -0.8292],\n",
       "        [ 1.3791,  0.8162, -0.8097],\n",
       "        [-0.2344, -0.4387, -0.3451],\n",
       "        [ 0.4634,  0.2932,  1.0250]])"
      ]
     },
     "execution_count": 17,
     "metadata": {},
     "output_type": "execute_result"
    }
   ],
   "source": [
    "# if you just want the tensor part of this without the requires_grad=True bit\n",
    "# method 1:\n",
    "embedding.weight.data"
   ]
  },
  {
   "cell_type": "code",
   "execution_count": 18,
   "id": "05560bd8",
   "metadata": {},
   "outputs": [
    {
     "data": {
      "text/plain": [
       "tensor([[ 0.6212, -1.9226,  0.6053],\n",
       "        [-0.9871,  1.4469, -0.2937],\n",
       "        [-0.6023,  0.8544, -0.8292],\n",
       "        [ 1.3791,  0.8162, -0.8097],\n",
       "        [-0.2344, -0.4387, -0.3451],\n",
       "        [ 0.4634,  0.2932,  1.0250]])"
      ]
     },
     "execution_count": 18,
     "metadata": {},
     "output_type": "execute_result"
    }
   ],
   "source": [
    "# if you just want the tensor part of this without the requires_grad=True bit\n",
    "# method 1:\n",
    "embedding.weight.detach()"
   ]
  },
  {
   "cell_type": "code",
   "execution_count": 19,
   "id": "a99ca479",
   "metadata": {},
   "outputs": [],
   "source": [
    "# call this A for some examples:\n",
    "A = embedding.weight.detach()"
   ]
  },
  {
   "cell_type": "code",
   "execution_count": 20,
   "id": "ab1f9b2b",
   "metadata": {},
   "outputs": [
    {
     "data": {
      "text/plain": [
       "tensor([ 0.6212, -1.9226,  0.6053])"
      ]
     },
     "execution_count": 20,
     "metadata": {},
     "output_type": "execute_result"
    }
   ],
   "source": [
    "# first row:\n",
    "A[0]"
   ]
  },
  {
   "cell_type": "code",
   "execution_count": 21,
   "id": "5ce66031",
   "metadata": {},
   "outputs": [
    {
     "data": {
      "text/plain": [
       "tensor([-0.9871,  1.4469, -0.2937])"
      ]
     },
     "execution_count": 21,
     "metadata": {},
     "output_type": "execute_result"
    }
   ],
   "source": [
    "# second row:\n",
    "A[1]"
   ]
  },
  {
   "cell_type": "code",
   "execution_count": 22,
   "id": "8d8a0df8",
   "metadata": {},
   "outputs": [
    {
     "data": {
      "text/plain": [
       "tensor([ 0.6212, -0.9871, -0.6023,  1.3791, -0.2344,  0.4634])"
      ]
     },
     "execution_count": 22,
     "metadata": {},
     "output_type": "execute_result"
    }
   ],
   "source": [
    "# first column:\n",
    "A[:,0]"
   ]
  },
  {
   "cell_type": "code",
   "execution_count": 23,
   "id": "c189160c",
   "metadata": {},
   "outputs": [
    {
     "data": {
      "text/plain": [
       "tensor(-0.2937)"
      ]
     },
     "execution_count": 23,
     "metadata": {},
     "output_type": "execute_result"
    }
   ],
   "source": [
    "# element in row 2, column 3:\n",
    "A[1,2]"
   ]
  },
  {
   "cell_type": "code",
   "execution_count": 24,
   "id": "7cd357b1",
   "metadata": {},
   "outputs": [
    {
     "name": "stdout",
     "output_type": "stream",
     "text": [
      "tensor([1.2000, 2.1000])\n",
      "tensor([2.7000, 1.5000])\n"
     ]
    }
   ],
   "source": [
    "# to create a tensor directly:\n",
    "x = torch.tensor([1.2,2.1])\n",
    "y = torch.tensor([2.7,1.5])\n",
    "print(x) \n",
    "print(y)"
   ]
  },
  {
   "cell_type": "code",
   "execution_count": 25,
   "id": "5b663cb7",
   "metadata": {},
   "outputs": [
    {
     "data": {
      "text/plain": [
       "tensor(6.3900)"
      ]
     },
     "execution_count": 25,
     "metadata": {},
     "output_type": "execute_result"
    }
   ],
   "source": [
    "torch.dot( x,y)"
   ]
  },
  {
   "cell_type": "code",
   "execution_count": 26,
   "id": "823b60fb",
   "metadata": {},
   "outputs": [
    {
     "data": {
      "text/plain": [
       "6.390000000000001"
      ]
     },
     "execution_count": 26,
     "metadata": {},
     "output_type": "execute_result"
    }
   ],
   "source": [
    "# check:\n",
    "1.2*2.7 + 2.1*1.5"
   ]
  },
  {
   "cell_type": "code",
   "execution_count": null,
   "id": "d5f63f42",
   "metadata": {},
   "outputs": [],
   "source": []
  }
 ],
 "metadata": {
  "kernelspec": {
   "display_name": "Python 3",
   "language": "python",
   "name": "python3"
  },
  "language_info": {
   "codemirror_mode": {
    "name": "ipython",
    "version": 3
   },
   "file_extension": ".py",
   "mimetype": "text/x-python",
   "name": "python",
   "nbconvert_exporter": "python",
   "pygments_lexer": "ipython3",
   "version": "3.13.3"
  }
 },
 "nbformat": 4,
 "nbformat_minor": 5
}
