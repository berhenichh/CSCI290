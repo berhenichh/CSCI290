{
  "cells": [
    {
      "cell_type": "markdown",
      "metadata": {
        "colab_type": "text",
        "id": "view-in-github"
      },
      "source": [
        "<a href=\"https://colab.research.google.com/github/mbrudd/LLMs/blob/main/simple_attention.ipynb\" target=\"_parent\"><img src=\"https://colab.research.google.com/assets/colab-badge.svg\" alt=\"Open In Colab\"/></a>"
      ]
    },
    {
      "cell_type": "code",
      "execution_count": 1,
      "id": "ecb13cc5",
      "metadata": {
        "id": "ecb13cc5"
      },
      "outputs": [],
      "source": [
        "import torch\n",
        "import tiktoken"
      ]
    },
    {
      "cell_type": "code",
      "execution_count": 2,
      "id": "069ae6cb",
      "metadata": {
        "id": "069ae6cb"
      },
      "outputs": [],
      "source": [
        "raw_text = \"TThe cat sat on the mat\""
      ]
    },
    {
      "cell_type": "code",
      "execution_count": 3,
      "id": "753b5d90",
      "metadata": {
        "id": "753b5d90"
      },
      "outputs": [],
      "source": [
        "tokenizer = tiktoken.get_encoding(\"gpt2\")"
      ]
    },
    {
      "cell_type": "code",
      "execution_count": 4,
      "id": "e4f3c0f1",
      "metadata": {
        "colab": {
          "base_uri": "https://localhost:8080/"
        },
        "id": "e4f3c0f1",
        "outputId": "5d45584a-e149-40d9-d1b8-5b42a52e8fdc"
      },
      "outputs": [
        {
          "name": "stdout",
          "output_type": "stream",
          "text": [
            "[51, 464, 3797, 3332, 319, 262, 2603]\n"
          ]
        }
      ],
      "source": [
        "enc_text = tokenizer.encode( raw_text )\n",
        "print(enc_text)"
      ]
    },
    {
      "cell_type": "code",
      "execution_count": 5,
      "id": "3cff8e5c",
      "metadata": {
        "colab": {
          "base_uri": "https://localhost:8080/"
        },
        "id": "3cff8e5c",
        "outputId": "ae54faa5-0a5c-4bb6-d2ae-a66be2b6e4fe"
      },
      "outputs": [
        {
          "name": "stdout",
          "output_type": "stream",
          "text": [
            "Parameter containing:\n",
            "tensor([[-0.6937, -0.6726,  1.1384,  1.3864, -0.0198,  0.0271, -0.2929,  0.3828],\n",
            "        [-0.4971,  0.1606,  0.6017,  0.8687, -1.0573,  0.5387,  0.0531,  1.1315],\n",
            "        [-0.3628, -1.1921,  0.1930, -1.3738, -0.1367, -0.2918,  1.1546,  0.2428],\n",
            "        [-0.3136, -1.4087, -0.4015, -1.3621, -0.2958,  0.8103, -0.0063, -0.4285]],\n",
            "       requires_grad=True)\n"
          ]
        }
      ],
      "source": [
        "vocab_size = 4\n",
        "output_dim = 8\n",
        "inputs = torch.nn.Embedding( vocab_size, output_dim )\n",
        "print( inputs.weight )"
      ]
    },
    {
      "cell_type": "code",
      "execution_count": 6,
      "id": "14fa604c",
      "metadata": {
        "colab": {
          "base_uri": "https://localhost:8080/"
        },
        "id": "14fa604c",
        "outputId": "37109a54-b24f-4350-a040-208979443c8b"
      },
      "outputs": [
        {
          "data": {
            "text/plain": [
              "tensor([[-0.6937, -0.6726,  1.1384,  1.3864, -0.0198,  0.0271, -0.2929,  0.3828],\n",
              "        [-0.4971,  0.1606,  0.6017,  0.8687, -1.0573,  0.5387,  0.0531,  1.1315],\n",
              "        [-0.3628, -1.1921,  0.1930, -1.3738, -0.1367, -0.2918,  1.1546,  0.2428],\n",
              "        [-0.3136, -1.4087, -0.4015, -1.3621, -0.2958,  0.8103, -0.0063, -0.4285]])"
            ]
          },
          "execution_count": 6,
          "metadata": {},
          "output_type": "execute_result"
        }
      ],
      "source": [
        "inputs = inputs.weight.data\n",
        "inputs"
      ]
    },
    {
      "cell_type": "code",
      "execution_count": 7,
      "id": "f48673aa",
      "metadata": {
        "colab": {
          "base_uri": "https://localhost:8080/"
        },
        "id": "f48673aa",
        "outputId": "7454b1f6-dd8d-488e-ff7e-662c729bda9b"
      },
      "outputs": [
        {
          "data": {
            "text/plain": [
              "torch.Size([4, 8])"
            ]
          },
          "execution_count": 7,
          "metadata": {},
          "output_type": "execute_result"
        }
      ],
      "source": [
        "inputs.shape"
      ]
    },
    {
      "cell_type": "code",
      "execution_count": 8,
      "id": "52ecd8a2",
      "metadata": {
        "colab": {
          "base_uri": "https://localhost:8080/"
        },
        "id": "52ecd8a2",
        "outputId": "c5629d8d-6819-4ba0-dd34-553f5d2e456a"
      },
      "outputs": [
        {
          "name": "stdout",
          "output_type": "stream",
          "text": [
            "[-0.6937108635902405, -0.672611653804779, 1.1383668184280396, 1.3864461183547974, -0.019802803173661232, 0.02710053324699402, -0.2929268479347229, 0.3827540874481201]\n",
            "[-0.4970836341381073, 0.1605609655380249, 0.6016968488693237, 0.8687182664871216, -1.0572795867919922, 0.5386615991592407, 0.05309273675084114, 1.131486415863037]\n",
            "[-0.36277061700820923, -1.1921308040618896, 0.1929905116558075, -1.373810052871704, -0.13666342198848724, -0.29176580905914307, 1.1545780897140503, 0.24278685450553894]\n",
            "[-0.31358978152275085, -1.4086920022964478, -0.40148651599884033, -1.3620620965957642, -0.29576554894447327, 0.8103487491607666, -0.006349856965243816, -0.4285391867160797]\n"
          ]
        }
      ],
      "source": [
        "for row in inputs:\n",
        "    print(row.tolist())"
      ]
    },
    {
      "cell_type": "code",
      "execution_count": 9,
      "id": "744ab807",
      "metadata": {
        "id": "744ab807"
      },
      "outputs": [],
      "source": [
        "x = torch.Tensor([1.1, 2.3])\n",
        "y = torch.Tensor([3.4,-2.1])\n"
      ]
    },
    {
      "cell_type": "code",
      "execution_count": 10,
      "id": "9969af72",
      "metadata": {
        "colab": {
          "base_uri": "https://localhost:8080/"
        },
        "id": "9969af72",
        "outputId": "dd8c6488-e200-4cc9-f33d-c5b66e33a260"
      },
      "outputs": [
        {
          "data": {
            "text/plain": [
              "-1.0899999999999999"
            ]
          },
          "execution_count": 10,
          "metadata": {},
          "output_type": "execute_result"
        }
      ],
      "source": [
        "1.1*3.4 + 2.3*(-2.1)"
      ]
    },
    {
      "cell_type": "code",
      "execution_count": 11,
      "id": "3d0bd2e7",
      "metadata": {
        "colab": {
          "base_uri": "https://localhost:8080/"
        },
        "id": "3d0bd2e7",
        "outputId": "7b678f15-0120-4b4b-9596-400e5b7e512d"
      },
      "outputs": [
        {
          "data": {
            "text/plain": [
              "tensor(-1.0900)"
            ]
          },
          "execution_count": 11,
          "metadata": {},
          "output_type": "execute_result"
        }
      ],
      "source": [
        "torch.dot( x, y)"
      ]
    },
    {
      "cell_type": "code",
      "execution_count": 12,
      "id": "ff8ed3cb",
      "metadata": {
        "colab": {
          "base_uri": "https://localhost:8080/"
        },
        "id": "ff8ed3cb",
        "outputId": "2c06717b-faad-4f1d-dc56-f911d6a3fd5a"
      },
      "outputs": [
        {
          "name": "stdout",
          "output_type": "stream",
          "text": [
            "tensor([-0.3628, -1.1921,  0.1930, -1.3738, -0.1367, -0.2918,  1.1546,  0.2428])\n"
          ]
        }
      ],
      "source": [
        "query = inputs[2]\n",
        "print(query)"
      ]
    },
    {
      "cell_type": "code",
      "execution_count": 13,
      "id": "ec8044f6",
      "metadata": {
        "colab": {
          "base_uri": "https://localhost:8080/"
        },
        "id": "ec8044f6",
        "outputId": "9fb0dca3-1ae0-44fb-8f83-3200a0f8aca6"
      },
      "outputs": [
        {
          "name": "stdout",
          "output_type": "stream",
          "text": [
            "tensor(-0.8820)\n",
            "tensor(-0.7651)\n",
            "tensor(4.9732)\n",
            "tensor(3.2795)\n"
          ]
        }
      ],
      "source": [
        "for i in range( len( inputs )):\n",
        "    print( torch.dot( query, inputs[i] ) )"
      ]
    },
    {
      "cell_type": "code",
      "execution_count": 14,
      "id": "8bc61b29",
      "metadata": {
        "colab": {
          "base_uri": "https://localhost:8080/"
        },
        "id": "8bc61b29",
        "outputId": "30022799-30d7-4b66-e1e1-c1d79b08d986"
      },
      "outputs": [
        {
          "name": "stdout",
          "output_type": "stream",
          "text": [
            "tensor([-0.8820, -0.7651,  4.9732,  3.2795])\n"
          ]
        }
      ],
      "source": [
        "attention_scores_2 = torch.zeros( len(inputs) )\n",
        "for i in range( len( inputs )):\n",
        "    attention_scores_2[i] = torch.dot( query, inputs[i] )\n",
        "print( attention_scores_2)"
      ]
    },
    {
      "cell_type": "code",
      "execution_count": 15,
      "id": "2ea28496",
      "metadata": {
        "id": "2ea28496"
      },
      "outputs": [],
      "source": [
        "# normalize the attention scores using the softmax function:\n",
        "# def softmax(x):\n",
        "#     torch.exp(x) / torch.exp(x).sum()"
      ]
    },
    {
      "cell_type": "code",
      "execution_count": 16,
      "id": "13bb65e2",
      "metadata": {
        "colab": {
          "base_uri": "https://localhost:8080/"
        },
        "id": "13bb65e2",
        "outputId": "5867a852-aaa9-4d02-8e0a-0fb1344d7f4a"
      },
      "outputs": [
        {
          "data": {
            "text/plain": [
              "tensor([0.0024, 0.0027, 0.8404, 0.1545])"
            ]
          },
          "execution_count": 16,
          "metadata": {},
          "output_type": "execute_result"
        }
      ],
      "source": [
        "attention_weights_2 = torch.softmax( attention_scores_2, dim = 0 )\n",
        "attention_weights_2"
      ]
    },
    {
      "cell_type": "code",
      "execution_count": 17,
      "id": "99231a39",
      "metadata": {
        "colab": {
          "base_uri": "https://localhost:8080/"
        },
        "id": "99231a39",
        "outputId": "4998a063-6655-49a8-ba3f-e02fe42be995"
      },
      "outputs": [
        {
          "data": {
            "text/plain": [
              "tensor(1.)"
            ]
          },
          "execution_count": 17,
          "metadata": {},
          "output_type": "execute_result"
        }
      ],
      "source": [
        "attention_weights_2.sum()"
      ]
    },
    {
      "cell_type": "code",
      "execution_count": 18,
      "id": "4281d09e",
      "metadata": {
        "colab": {
          "base_uri": "https://localhost:8080/"
        },
        "id": "4281d09e",
        "outputId": "4adcccb4-30ca-4e9e-8e7f-4b7f6bb1e162"
      },
      "outputs": [
        {
          "data": {
            "text/plain": [
              "tensor([-0.3563, -1.2207,  0.1045, -1.3593, -0.1635, -0.1185,  0.9688,  0.1418])"
            ]
          },
          "execution_count": 18,
          "metadata": {},
          "output_type": "execute_result"
        }
      ],
      "source": [
        "context_vector_2 = torch.zeros( query.shape )\n",
        "for i in range( len( attention_weights_2 ) ):\n",
        "    context_vector_2 += attention_weights_2[i]*inputs[i]\n",
        "context_vector_2"
      ]
    },
    {
      "cell_type": "code",
      "execution_count": 19,
      "id": "zU5taTSbgnn_",
      "metadata": {
        "colab": {
          "base_uri": "https://localhost:8080/"
        },
        "id": "zU5taTSbgnn_",
        "outputId": "80ad7b65-8339-428b-bd46-ce9a1db8619a"
      },
      "outputs": [
        {
          "data": {
            "text/plain": [
              "tensor([[-0.6937, -0.6726,  1.1384,  1.3864, -0.0198,  0.0271, -0.2929,  0.3828],\n",
              "        [-0.4971,  0.1606,  0.6017,  0.8687, -1.0573,  0.5387,  0.0531,  1.1315],\n",
              "        [-0.3628, -1.1921,  0.1930, -1.3738, -0.1367, -0.2918,  1.1546,  0.2428],\n",
              "        [-0.3136, -1.4087, -0.4015, -1.3621, -0.2958,  0.8103, -0.0063, -0.4285]])"
            ]
          },
          "execution_count": 19,
          "metadata": {},
          "output_type": "execute_result"
        }
      ],
      "source": [
        "inputs"
      ]
    },
    {
      "cell_type": "code",
      "execution_count": 20,
      "id": "IFmdnq32gq50",
      "metadata": {
        "colab": {
          "base_uri": "https://localhost:8080/"
        },
        "id": "IFmdnq32gq50",
        "outputId": "2d4458a8-7b67-4ea2-a355-b6c0f627ed75"
      },
      "outputs": [
        {
          "data": {
            "text/plain": [
              "tensor([[-0.6937, -0.4971, -0.3628, -0.3136],\n",
              "        [-0.6726,  0.1606, -1.1921, -1.4087],\n",
              "        [ 1.1384,  0.6017,  0.1930, -0.4015],\n",
              "        [ 1.3864,  0.8687, -1.3738, -1.3621],\n",
              "        [-0.0198, -1.0573, -0.1367, -0.2958],\n",
              "        [ 0.0271,  0.5387, -0.2918,  0.8103],\n",
              "        [-0.2929,  0.0531,  1.1546, -0.0063],\n",
              "        [ 0.3828,  1.1315,  0.2428, -0.4285]])"
            ]
          },
          "execution_count": 20,
          "metadata": {},
          "output_type": "execute_result"
        }
      ],
      "source": [
        "inputs.T"
      ]
    },
    {
      "cell_type": "code",
      "execution_count": 21,
      "id": "b099939f",
      "metadata": {
        "colab": {
          "base_uri": "https://localhost:8080/"
        },
        "id": "b099939f",
        "outputId": "0d8ae1e9-26ba-47f3-8b44-1dd5eb0b7d65"
      },
      "outputs": [
        {
          "data": {
            "text/plain": [
              "tensor([[ 4.3852,  2.5793, -0.8820, -1.3148],\n",
              "        [ 2.5793,  4.0807, -0.7651, -1.2311],\n",
              "        [-0.8820, -0.7651,  4.9732,  3.2795],\n",
              "        [-1.3148, -1.2311,  3.2795,  5.0270]])"
            ]
          },
          "execution_count": 21,
          "metadata": {},
          "output_type": "execute_result"
        }
      ],
      "source": [
        "# get all of the attention scores via a matrix multiplication:\n",
        "attention_scores = inputs @ inputs.T\n",
        "attention_scores"
      ]
    },
    {
      "cell_type": "code",
      "execution_count": 22,
      "id": "y63T3p7TgZvl",
      "metadata": {
        "colab": {
          "base_uri": "https://localhost:8080/"
        },
        "id": "y63T3p7TgZvl",
        "outputId": "629ee2ab-d88e-47da-bb85-e7c79a0e18eb"
      },
      "outputs": [
        {
          "data": {
            "text/plain": [
              "tensor([[0.8526, 0.1401, 0.0044, 0.0029],\n",
              "        [0.1803, 0.8093, 0.0064, 0.0040],\n",
              "        [0.0024, 0.0027, 0.8404, 0.1545],\n",
              "        [0.0015, 0.0016, 0.1479, 0.8490]])"
            ]
          },
          "execution_count": 22,
          "metadata": {},
          "output_type": "execute_result"
        }
      ],
      "source": [
        "attention_weights = torch.softmax( attention_scores, dim = -1 )\n",
        "attention_weights"
      ]
    },
    {
      "cell_type": "code",
      "execution_count": 23,
      "id": "Gl7K2gNAhGJx",
      "metadata": {
        "colab": {
          "base_uri": "https://localhost:8080/"
        },
        "id": "Gl7K2gNAhGJx",
        "outputId": "e0b7584e-0610-4440-a34f-142085e800f3"
      },
      "outputs": [
        {
          "data": {
            "text/plain": [
              "tensor(1.)"
            ]
          },
          "execution_count": 23,
          "metadata": {},
          "output_type": "execute_result"
        }
      ],
      "source": [
        "attention_weights[0].sum()"
      ]
    },
    {
      "cell_type": "code",
      "execution_count": 24,
      "id": "4JouXe6KhJVG",
      "metadata": {
        "colab": {
          "base_uri": "https://localhost:8080/"
        },
        "id": "4JouXe6KhJVG",
        "outputId": "9f7415cf-8db6-4d02-f3bb-e2e6d99b6427"
      },
      "outputs": [
        {
          "data": {
            "text/plain": [
              "tensor([[-0.6636, -0.5603,  1.0546,  1.2939, -0.1665,  0.0996, -0.2373,  0.4847],\n",
              "        [-0.5310, -0.0046,  0.6919,  0.9389, -0.8613,  0.4422, -0.0025,  0.9846],\n",
              "        [-0.3563, -1.2207,  0.1045, -1.3593, -0.1635, -0.1185,  0.9688,  0.1418],\n",
              "        [-0.3217, -1.3730, -0.3096, -1.3561, -0.2731,  0.6457,  0.1650, -0.3255]])"
            ]
          },
          "execution_count": 24,
          "metadata": {},
          "output_type": "execute_result"
        }
      ],
      "source": [
        "context_vectors = attention_weights @ inputs\n",
        "context_vectors"
      ]
    },
    {
      "cell_type": "code",
      "execution_count": null,
      "id": "ik363mQchhgZ",
      "metadata": {
        "id": "ik363mQchhgZ"
      },
      "outputs": [],
      "source": []
    }
  ],
  "metadata": {
    "colab": {
      "include_colab_link": true,
      "provenance": []
    },
    "kernelspec": {
      "display_name": "Python 3",
      "language": "python",
      "name": "python3"
    },
    "language_info": {
      "codemirror_mode": {
        "name": "ipython",
        "version": 3
      },
      "file_extension": ".py",
      "mimetype": "text/x-python",
      "name": "python",
      "nbconvert_exporter": "python",
      "pygments_lexer": "ipython3",
      "version": "3.13.3"
    }
  },
  "nbformat": 4,
  "nbformat_minor": 5
}
