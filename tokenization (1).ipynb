{
 "cells": [
  {
   "cell_type": "markdown",
   "id": "f592fbb0",
   "metadata": {},
   "source": [
    "# Tokenization\n",
    "\n",
    "_Tokenization_ is the process of converting a body of text into individual _tokens_, e.g., words and punctuation characters. This is the first step for most Natural Language Processing (NLP) tasks, including preparing data for training an LLM. Let's see how it's done!"
   ]
  },
  {
   "cell_type": "markdown",
   "id": "09f17e49",
   "metadata": {},
   "source": [
    "## Some sample text"
   ]
  },
  {
   "cell_type": "code",
   "execution_count": 5,
   "id": "4bc42f87",
   "metadata": {},
   "outputs": [
    {
     "name": "stdout",
     "output_type": "stream",
     "text": [
      "This is a test! Or is this not a test? Test it to be sure. :)\n",
      "This sample text has 61 characters.\n"
     ]
    }
   ],
   "source": [
    "text = \"This is a test! Or is this not a test? Test it to be sure. :)\"\n",
    "print(text)\n",
    "print(f\"This sample text has {len(text)} characters.\")"
   ]
  },
  {
   "cell_type": "code",
   "execution_count": 6,
   "id": "e39fa51d",
   "metadata": {},
   "outputs": [
    {
     "name": "stdout",
     "output_type": "stream",
     "text": [
      "['This', 'is', 'a', 'test!', 'Or', 'is', 'this', 'not', 'a', 'test?', 'Test', 'it', 'to', 'be', 'sure.', ':)']\n"
     ]
    }
   ],
   "source": [
    "print( text.split() )"
   ]
  },
  {
   "cell_type": "code",
   "execution_count": 7,
   "id": "3a2bd7ae",
   "metadata": {},
   "outputs": [
    {
     "name": "stdout",
     "output_type": "stream",
     "text": [
      "\u001b[1;31mSignature:\u001b[0m \u001b[0mstr\u001b[0m\u001b[1;33m.\u001b[0m\u001b[0msplit\u001b[0m\u001b[1;33m(\u001b[0m\u001b[0mself\u001b[0m\u001b[1;33m,\u001b[0m \u001b[1;33m/\u001b[0m\u001b[1;33m,\u001b[0m \u001b[0msep\u001b[0m\u001b[1;33m=\u001b[0m\u001b[1;32mNone\u001b[0m\u001b[1;33m,\u001b[0m \u001b[0mmaxsplit\u001b[0m\u001b[1;33m=\u001b[0m\u001b[1;33m-\u001b[0m\u001b[1;36m1\u001b[0m\u001b[1;33m)\u001b[0m\u001b[1;33m\u001b[0m\u001b[1;33m\u001b[0m\u001b[0m\n",
      "\u001b[1;31mDocstring:\u001b[0m\n",
      "Return a list of the substrings in the string, using sep as the separator string.\n",
      "\n",
      "  sep\n",
      "    The separator used to split the string.\n",
      "\n",
      "    When set to None (the default value), will split on any whitespace\n",
      "    character (including \\n \\r \\t \\f and spaces) and will discard\n",
      "    empty strings from the result.\n",
      "  maxsplit\n",
      "    Maximum number of splits.\n",
      "    -1 (the default value) means no limit.\n",
      "\n",
      "Splitting starts at the front of the string and works to the end.\n",
      "\n",
      "Note, str.split() is mainly useful for data that has been intentionally\n",
      "delimited.  With natural text that includes punctuation, consider using\n",
      "the regular expression module.\n",
      "\u001b[1;31mType:\u001b[0m      method_descriptor"
     ]
    }
   ],
   "source": [
    "str.split?"
   ]
  },
  {
   "cell_type": "code",
   "execution_count": 8,
   "id": "3fa28134",
   "metadata": {},
   "outputs": [],
   "source": [
    "import re"
   ]
  },
  {
   "cell_type": "code",
   "execution_count": 9,
   "id": "d9f735a0",
   "metadata": {},
   "outputs": [
    {
     "name": "stdout",
     "output_type": "stream",
     "text": [
      "['!', ')', '.', ':', '?', 'Or', 'Test', 'This', 'a', 'be', 'is', 'it', 'not', 'sure', 'test', 'this', 'to']\n"
     ]
    }
   ],
   "source": [
    "tokens = re.split( r'([.?!:()]|\\s)', text)\n",
    "tokens = [ item for item in tokens if item.split() ]\n",
    "tokens = sorted( list( set( tokens ) ) )\n",
    "print(tokens)"
   ]
  },
  {
   "cell_type": "code",
   "execution_count": 10,
   "id": "7fb31ae0",
   "metadata": {},
   "outputs": [
    {
     "name": "stdout",
     "output_type": "stream",
     "text": [
      "dict_items([('!', 0), (')', 1), ('.', 2), (':', 3), ('?', 4), ('Or', 5), ('Test', 6), ('This', 7), ('a', 8), ('be', 9), ('is', 10), ('it', 11), ('not', 12), ('sure', 13), ('test', 14), ('this', 15), ('to', 16)])\n"
     ]
    }
   ],
   "source": [
    "vocab = { token:index for index, token in enumerate( tokens )}\n",
    "print( vocab.items())"
   ]
  },
  {
   "cell_type": "code",
   "execution_count": 11,
   "id": "529bfc23",
   "metadata": {},
   "outputs": [
    {
     "data": {
      "text/plain": [
       "6"
      ]
     },
     "execution_count": 11,
     "metadata": {},
     "output_type": "execute_result"
    }
   ],
   "source": [
    "vocab[\"Test\"]"
   ]
  },
  {
   "cell_type": "code",
   "execution_count": 12,
   "id": "757ab7ad",
   "metadata": {},
   "outputs": [
    {
     "name": "stdout",
     "output_type": "stream",
     "text": [
      "\u001b[1;31mInit signature:\u001b[0m \u001b[0menumerate\u001b[0m\u001b[1;33m(\u001b[0m\u001b[0miterable\u001b[0m\u001b[1;33m,\u001b[0m \u001b[0mstart\u001b[0m\u001b[1;33m=\u001b[0m\u001b[1;36m0\u001b[0m\u001b[1;33m)\u001b[0m\u001b[1;33m\u001b[0m\u001b[1;33m\u001b[0m\u001b[0m\n",
      "\u001b[1;31mDocstring:\u001b[0m     \n",
      "Return an enumerate object.\n",
      "\n",
      "  iterable\n",
      "    an object supporting iteration\n",
      "\n",
      "The enumerate object yields pairs containing a count (from start, which\n",
      "defaults to zero) and a value yielded by the iterable argument.\n",
      "\n",
      "enumerate is useful for obtaining an indexed list:\n",
      "    (0, seq[0]), (1, seq[1]), (2, seq[2]), ...\n",
      "\u001b[1;31mType:\u001b[0m           type\n",
      "\u001b[1;31mSubclasses:\u001b[0m     "
     ]
    }
   ],
   "source": [
    "enumerate?"
   ]
  },
  {
   "cell_type": "markdown",
   "id": "be2bb986",
   "metadata": {},
   "source": [
    "## Tokenizing a story"
   ]
  },
  {
   "cell_type": "code",
   "execution_count": 13,
   "id": "b24b4bc4",
   "metadata": {},
   "outputs": [
    {
     "name": "stdout",
     "output_type": "stream",
     "text": [
      "'My Lord Chancellor,\n",
      "\n",
      "'When I consider the Affair of an Union betwixt the two Nations, as it is expr\n"
     ]
    }
   ],
   "source": [
    "with open( \"datashort_story2.txt\", \"r\" ) as f:\n",
    "    raw_text = f.read()\n",
    "print(raw_text[:100])"
   ]
  },
  {
   "cell_type": "code",
   "execution_count": 14,
   "id": "26b570f5",
   "metadata": {},
   "outputs": [
    {
     "name": "stdout",
     "output_type": "stream",
     "text": [
      "5840\n"
     ]
    }
   ],
   "source": [
    "tokens = re.split( r'([.?!:())\"\\'“”‘’^]|\\s)', raw_text)\n",
    "tokens = [ item for item in tokens if item.split() ]\n",
    "tokens.extend([\"<|unk|>\", \"<|endoftext|>\"])\n",
    "print( len(tokens) )\n"
   ]
  },
  {
   "cell_type": "code",
   "execution_count": 15,
   "id": "3077322e",
   "metadata": {},
   "outputs": [
    {
     "name": "stdout",
     "output_type": "stream",
     "text": [
      "\u001b[1;31mSignature:\u001b[0m \u001b[0mtokens\u001b[0m\u001b[1;33m.\u001b[0m\u001b[0mextend\u001b[0m\u001b[1;33m(\u001b[0m\u001b[0miterable\u001b[0m\u001b[1;33m,\u001b[0m \u001b[1;33m/\u001b[0m\u001b[1;33m)\u001b[0m\u001b[1;33m\u001b[0m\u001b[1;33m\u001b[0m\u001b[0m\n",
      "\u001b[1;31mDocstring:\u001b[0m Extend list by appending elements from the iterable.\n",
      "\u001b[1;31mType:\u001b[0m      builtin_function_or_method"
     ]
    }
   ],
   "source": [
    "tokens.extend?"
   ]
  },
  {
   "cell_type": "code",
   "execution_count": 16,
   "id": "487ff897",
   "metadata": {},
   "outputs": [
    {
     "name": "stdout",
     "output_type": "stream",
     "text": [
      "1808\n"
     ]
    }
   ],
   "source": [
    "tokens = sorted( list( set( tokens ) ) )\n",
    "print( len(tokens) )"
   ]
  },
  {
   "cell_type": "code",
   "execution_count": 17,
   "id": "1f755d79",
   "metadata": {},
   "outputs": [
    {
     "name": "stdout",
     "output_type": "stream",
     "text": [
      "['!', '\"', '&c', \"'\", '(', ')', '.', '1604', '2000', ':', '<|endoftext|>', '<|unk|>', '?', 'A', 'ANN,', 'Abolition', 'Abroad,', 'Account,', 'Act', 'Act,']\n"
     ]
    }
   ],
   "source": [
    "print( tokens[:20])"
   ]
  },
  {
   "cell_type": "code",
   "execution_count": 18,
   "id": "8bf04503",
   "metadata": {},
   "outputs": [
    {
     "data": {
      "text/plain": [
       "dict_items([('!', 0), ('\"', 1), ('&c', 2), (\"'\", 3), ('(', 4), (')', 5), ('.', 6), ('1604', 7), ('2000', 8), (':', 9), ('<|endoftext|>', 10), ('<|unk|>', 11), ('?', 12), ('A', 13), ('ANN,', 14), ('Abolition', 15), ('Abroad,', 16), ('Account,', 17), ('Act', 18), ('Act,', 19), ('Administration,', 20), ('Advantage', 21), ('Advice', 22), ('Advices', 23), ('Affair', 24), ('Affair,', 25), ('Affairs', 26), ('Affairs;', 27), ('Agape,', 28), ('Ah', 29), ('Air,', 30), ('Ale,', 31), ('All', 32), ('Alliances,', 33), ('Almighty', 34), ('Alteration', 35), ('Anabaptists,', 36), ('Ancestors', 37), ('And', 38), ('And,', 39), ('Animosities', 40), ('Annihilations,', 41), ('Anti-courtier', 42), ('Antistatesman', 43), ('Ape,', 44), ('Appeals', 45), ('Appearance,', 46), ('Appearances', 47), ('Application', 48), ('Are', 49), ('Arguments', 50), ('Aristocracy,', 51), ('Armies', 52), ('Armies,', 53), ('Arminians,', 54), ('Article', 55), ('Article,', 56), ('Article;', 57), ('Articles', 58), ('Articles,', 59), ('Assent', 60), ('Assertors', 61), ('Assistance', 62), ('Attempts,', 63), ('Attorneys,', 64), ('Avocations,', 65), ('Balance;', 66), ('Bargain', 67), ('Bargain,', 68), ('Bargains', 69), ('Barons,', 70), ('Bed', 71), ('Beginning', 72), ('Behaviour', 73), ('Being', 74), ('Bell,', 75), ('Benefices,', 76), ('Besides,', 77), ('Bill', 78), ('Bird', 79), ('Birth,', 80), ('Blessing', 81), ('Blood', 82), ('Blow,', 83), ('Body,', 84), ('Body;', 85), ('Bones', 86), ('Book', 87), ('Boroughs', 88), ('Bow', 89), ('Branches', 90), ('Bread', 91), ('Brethren', 92), ('Brother', 93), ('Burial,', 94), ('But', 95), ('Bygones', 96), ('Bygones,', 97), ('Cabbage-stock', 98), ('Caledonia,', 99), ('Campbels,', 100), ('Cart-blanch', 101), ('Certioraries,', 102), ('Chain', 103), ('Chains', 104), ('Chancellor,', 105), ('Change', 106), ('Character', 107), ('Charges', 108), ('Chariot', 109), ('Chariot,', 110), ('Chieftains,', 111), ('Christianity,', 112), ('Church', 113), ('Church,', 114), ('Circumstances', 115), ('Circumstances,', 116), ('City', 117), ('Claim', 118), ('Classes,', 119), ('Clause', 120), ('Cloak', 121), ('Cloth,', 122), ('Cloud,', 123), ('Cock', 124), ('Cock,', 125), ('Cockatrice', 126), ('Colliflowers,', 127), ('Colours,', 128), ('Commerce', 129), ('Commerce,', 130), ('Commission,', 131), ('Commissioner', 132), ('Commissioner,', 133), ('Commissioners', 134), ('Commissioners,', 135), ('Common', 136), ('Companies', 137), ('Companies,', 138), ('Company', 139), ('Complaints', 140), ('Complaisance', 141), ('Con', 142), ('Concern', 143), ('Concerns', 144), ('Conclusion', 145), ('Concordia', 146), ('Condition', 147), ('Conditions', 148), ('Confidence', 149), ('Conformity;', 150), ('Confusion', 151), ('Confusion,', 152), ('Conqueror', 153), ('Conquest;', 154), ('Consequence', 155), ('Consideration', 156), ('Considerations', 157), ('Considerations,', 158), ('Constables', 159), ('Constancy', 160), ('Constituents,', 161), ('Constitution', 162), ('Constitution,', 163), ('Constitutions', 164), ('Contradiction,', 165), ('Corn', 166), ('Corner', 167), ('Corps', 168), ('Correction', 169), ('Councils', 170), ('Councils,', 171), ('Counsel', 172), ('Counter-Petitions', 173), ('Countries,', 174), ('Country,', 175), ('Court', 176), ('Courts', 177), ('Creature,', 178), ('Crime', 179), ('Crown,', 180), ('Culeus,', 181), ('Customs,', 182), ('CÃ¦sar,', 183), ('Danger', 184), ('Daughters', 185), ('Day', 186), ('Day,', 187), ('Days', 188), ('Dealings', 189), ('Death', 190), ('Debate,', 191), ('Debts,', 192), ('Decease', 193), ('Decease;', 194), ('Decisions,', 195), ('Deed,', 196), ('Deference,', 197), ('Deliberation', 198), ('Deliberation,', 199), ('Deliverance', 200), ('Deliverer,', 201), ('Demands', 202), ('Demands,', 203), ('Demurs,', 204), ('Design', 205), ('Design,', 206), ('Designs', 207), ('Designs,', 208), ('Designs;', 209), ('Desire', 210), ('Destruction', 211), ('Detail', 212), ('Determination', 213), ('Difficulties', 214), ('Dignities', 215), ('Disappointmen,', 216), ('Discourse', 217), ('Discourse,', 218), ('Discourses', 219), ('Distance', 220), ('Diversity', 221), ('Divino', 222), ('Division,', 223), ('Divisions', 224), ('Divisions,', 225), ('Dog,', 226), ('Dominions,', 227), ('Drugget', 228), ('Duke', 229), ('Dukedoms', 230), ('Dutch', 231), ('Duty', 232), ('Ears', 233), ('Egg', 234), ('Ejectione', 235), ('Empires,', 236), ('Employment', 237), ('Emporium', 238), ('Encouragement', 239), ('Endeavours,', 240), ('Enemies', 241), ('Enemies,', 242), ('England', 243), ('England,', 244), ('England;', 245), ('English', 246), ('Enquiry', 247), ('Entail', 248), ('Entail,', 249), ('Episcopal', 250), ('Equivalents,', 251), ('Error,', 252), ('Estate', 253), ('Estates,', 254), ('Et', 255), ('Europe', 256), ('Europe,', 257), ('Excise,', 258), ('Exciseman', 259), ('Excises,', 260), ('Expence', 261), ('Expences,', 262), ('Experience,', 263), ('Exploits;', 264), ('Extremity', 265), ('Extremity,', 266), ('Eyes', 267), ('Factions', 268), ('Factions,', 269), ('Factions;', 270), ('Fairplay', 271), ('Faithfulness', 272), ('Families', 273), ('Families,', 274), ('Fasts', 275), ('Father', 276), ('Favour', 277), ('Favourite', 278), ('Favours', 279), ('Fear', 280), ('Fellow,', 281), ('Fidelity', 282), ('Fig-tree,', 283), ('Firmae,', 284), ('Followers', 285), ('Foot', 286), ('For', 287), ('Form', 288), ('Fortune', 289), ('Fortunes', 290), ('Frowns', 291), ('GOD', 292), ('GOD;', 293), ('Garment,', 294), ('Gates,', 295), ('Generals', 296), ('Gentleman', 297), ('Gibelins', 298), ('Gladness,', 299), ('Glory', 300), ('God', 301), ('God,', 302), ('God;', 303), ('Gold', 304), ('Gold;', 305), ('Good', 306), ('Gordons,', 307), ('Government', 308), ('Government,', 309), ('Grace', 310), ('Grace,', 311), ('Grahams,', 312), ('Grandeur,', 313), ('Grief', 314), ('Guarantee', 315), ('Guard', 316), ('Guelfs', 317), ('Hamiltons,', 318), ('Hand', 319), ('Hand,', 320), ('Hands', 321), ('Hands,', 322), ('Hannibal', 323), ('Hannibal,', 324), ('Happiness', 325), ('Hazard', 326), ('He', 327), ('Head-bands,', 328), ('Heads', 329), ('Heart', 330), ('Heart,', 331), ('Heart;', 332), ('Hearts', 333), ('Heats', 334), ('Heats,', 335), ('Hedge', 336), ('Heirs', 337), ('Help', 338), ('Herb,', 339), ('High', 340), ('His', 341), ('Holds', 342), ('Homage', 343), ('Home', 344), ('Home-made', 345), ('Honour', 346), ('Honour,', 347), ('House', 348), ('House,', 349), ('House;', 350), ('Houses', 351), ('However,', 352), ('Humes,', 353), ('Humiliations,', 354), ('Husbands,', 355), ('Huzza', 356), ('Hydra', 357), ('I', 358), ('If', 359), ('Image,', 360), ('Impositions,', 361), ('In', 362), ('Inclination', 363), ('Inclinations', 364), ('Incorporation,', 365), ('Incorporations,', 366), ('Increase;', 367), ('Independency', 368), ('Independency,', 369), ('Indignation,', 370), ('Indovar,', 371), ('Influence', 372), ('Inhabitants', 373), ('Injunctions,', 374), ('Instructions', 375), ('Instruments,', 376), ('Interest', 377), ('Interests,', 378), ('Introduction', 379), ('Is', 380), ('Island', 381), ('Isle,', 382), ('It', 383), ('Jars', 384), ('Jehovah', 385), ('Jews,', 386), ('Jireh,', 387), ('Johnstons,', 388), ('Joseph', 389), ('Judah', 390), ('Judges', 391), ('Judgment;', 392), ('Judicature;', 393), ('Kers,', 394), ('Kindred,', 395), ('King,', 396), ('Kingdom', 397), ('Kingdom,', 398), ('Kingdom;', 399), ('Kingdoms', 400), ('Kingdoms,', 401), ('Kirk', 402), ('Knees', 403), ('Knife', 404), ('Lad,', 405), ('Land,', 406), ('Landed', 407), ('Laurels', 408), ('Laurels,', 409), ('Law', 410), ('Law,', 411), ('Laws', 412), ('Laws,', 413), ('Let', 414), ('Letter', 415), ('Level', 416), ('Liberties', 417), ('Liberties;', 418), ('Liberty', 419), ('Liberty,', 420), ('Life', 421), ('Ligaments', 422), ('Limitations', 423), ('Limitations,', 424), ('Lips,', 425), ('Lives', 426), ('Lord', 427), ('Lord,', 428), ('Lords', 429), ('Lords-Commissioners', 430), ('Lords-CommissionersTreaters', 431), ('Lordships', 432), ('Love', 433), ('Love-feast', 434), ('Mackallamores', 435), ('Magnatum', 436), ('Majesty', 437), ('Majesty,', 438), ('Man', 439), ('Man,', 440), ('Management', 441), ('Management;', 442), ('Managers', 443), ('Manner', 444), ('Manufactures,', 445), ('Mariners', 446), ('Marshals', 447), ('Mass,', 448), ('Matter', 449), ('Means,', 450), ('Measures', 451), ('Measures;', 452), ('Meat', 453), ('Meditation;', 454), ('Meditations,', 455), ('Member', 456), ('Members', 457), ('Memory', 458), ('Men', 459), ('Men,', 460), ('Merits', 461), ('Metal', 462), ('Metals,', 463), ('Method', 464), ('Method,', 465), ('Mind', 466), ('Ministers', 467), ('Misery,', 468), ('Misunderstandings', 469), ('Mixture', 470), ('Modesty', 471), ('Monarchy', 472), ('Monarchy,', 473), ('Monitor', 474), ('Moon', 475), ('Moreover,', 476), ('Mother', 477), ('Motives', 478), ('Mouths;', 479), ('Murder', 480), ('Murrays,', 481), ('My', 482), ('Name', 483), ('Name,', 484), ('Names', 485), ('Names,', 486), ('Narrow-heartedness', 487), ('Nation', 488), ('Nation,', 489), ('Nation;', 490), ('Nations', 491), ('Nations,', 492), ('Nature', 493), ('Navy', 494), ('Nebuchadnezzar', 495), ('Necessity', 496), ('Necessity,', 497), ('Neighbours', 498), ('Neighbours,', 499), ('Neighbours;', 500), ('Nicety,', 501), ('Nimrod;', 502), ('Nisi', 503), ('No,', 504), ('Nomination', 505), ('None', 506), ('Notice', 507), ('Notion', 508), ('Now,', 509), ('Number', 510), ('Oath', 511), ('Occasional', 512), ('Of', 513), ('Officers', 514), ('Opinion', 515), ('Opinion,', 516), ('Opportunity', 517), ('Opposition,', 518), ('Order', 519), ('Ordination,', 520), ('Our', 521), ('Oxen', 522), ('Pains', 523), ('Papists,', 524), ('Pardon', 525), ('Parliament', 526), ('Parliament,', 527), ('Parliament;', 528), ('Parliaments,', 529), ('Parricide', 530), ('Parricide,', 531), ('Part', 532), ('Part,', 533), ('Particular', 534), ('Particulars,', 535), ('Parties', 536), ('Partners;', 537), ('Patria', 538), ('Patricide', 539), ('Patriots', 540), ('Pause', 541), ('Peace', 542), ('Peace,', 543), ('Peace-makers;', 544), ('Peerage', 545), ('Peers', 546), ('Peers,', 547), ('Pen,', 548), ('People', 549), ('People,', 550), ('Perseverance,', 551), ('Person', 552), ('Persons', 553), ('Piece', 554), ('Piece,', 555), ('Pieces', 556), ('Place,', 557), ('Places', 558), ('Places,', 559), ('Plain,', 560), ('Plantation-Trade', 561), ('Plough', 562), ('Ploughman,', 563), ('Point', 564), ('Points', 565), ('Positions,', 566), ('Post', 567), ('Posterity', 568), ('Posterity,', 569), ('Posts', 570), ('Potentate,', 571), ('Pottage,', 572), ('Power', 573), ('Power,', 574), ('Powers', 575), ('Practiques', 576), ('Pragmatic', 577), ('Predecessors', 578), ('Predecessors,', 579), ('Prelude', 580), ('Premisses', 581), ('Prentices', 582), ('Presbyterian,', 583), ('Prescriptions,', 584), ('Presence', 585), ('Presses', 586), ('Prince', 587), ('Prince,', 588), ('Princess', 589), ('Principalities,', 590), ('Principles,', 591), ('Prisoners,', 592), ('Prius', 593), ('Pro', 594), ('Proceeding', 595), ('Progenitors', 596), ('Proposal', 597), ('Proposals', 598), ('Prosecution', 599), ('Prosperity', 600), ('Proverb,', 601), ('Providence', 602), ('Providence,', 603), ('Provinces', 604), ('Provinces,', 605), ('Proviso,', 606), ('Punishment,', 607), ('Punishments', 608), ('Purpose,', 609), ('Queen', 610), ('Queen,', 611), ('Queens,', 612), ('Queensbary,', 613), ('Question', 614), ('Rate,', 615), ('Rates,', 616), ('Reason', 617), ('Reasons', 618), ('Reasons,', 619), ('Records', 620), ('Records,', 621), ('Recourse', 622), ('Rectification', 623), ('Rectifications', 624), ('Regalia,', 625), ('Regulations', 626), ('Reign', 627), ('Rejoicing', 628), ('Relation', 629), ('Religion,', 630), ('Rem', 631), ('Repetition', 632), ('Repetitions', 633), ('Representatives', 634), ('Requests', 635), ('Resolution', 636), ('Resolve,', 637), ('Resolved,', 638), ('Respect', 639), ('Results', 640), ('Revolution', 641), ('Reward', 642), ('Riches,', 643), ('Right,', 644), ('Rights', 645), ('Rock,', 646), ('Rods', 647), ('Roman,', 648), ('Rome;', 649), ('Royal', 650), ('Sack,', 651), ('Safety', 652), ('Sale,', 653), ('Salvation', 654), ('Sanction', 655), ('Satisfaction', 656), ('Saying', 657), ('Scandalum', 658), ('Scotchman', 659), ('Scotland', 660), ('Scotland,', 661), ('Scots', 662), ('Sea', 663), ('Sectaries,', 664), ('Security', 665), ('Security,', 666), ('Seed', 667), ('Self-Designs', 668), ('Self-defence', 669), ('Self-denying', 670), ('Self-designs,', 671), ('Senate,', 672), ('Session', 673), ('Shall', 674), ('Ships', 675), ('Should', 676), ('Side,', 677), ('Sieges', 678), ('Sight', 679), ('Significations,', 680), ('Silence,', 681), ('Sinews', 682), ('Situations', 683), ('Slaves', 684), ('Socinians,', 685), ('Soldiers', 686), ('Soldiery', 687), ('Some', 688), ('Son', 689), ('Sons', 690), ('Sophia', 691), ('Souls', 692), ('Source', 693), ('Sovereign', 694), ('Sovereign,', 695), ('Sovereign;', 696), ('Sovereigne;', 697), ('Sovereignty', 698), ('Sovereignty,', 699), ('Speakers', 700), ('Specialities', 701), ('Spirits', 702), ('Spokesmen', 703), ('Stake', 704), ('Staple', 705), ('State', 706), ('State,', 707), ('State-Project,', 708), ('States,', 709), ('Statesman,', 710), ('Statesman;', 711), ('Statesmen,', 712), ('Statue', 713), ('Statute-Books,', 714), ('Story', 715), ('Streets,', 716), ('Strength', 717), ('Stuarts,', 718), ('Subject', 719), ('Subject,', 720), ('Subjects', 721), ('Subjects,', 722), ('Subsistance,', 723), ('Substance', 724), ('Success', 725), ('Succession', 726), ('Succession,', 727), ('Successor,', 728), ('Successors', 729), ('Suit', 730), ('Surrender', 731), ('Surrrender,', 732), ('Swords', 733), ('Table,', 734), ('Taxes', 735), ('Taxes,', 736), ('Tear,', 737), ('Terms', 738), ('Terms;', 739), ('Terror', 740), ('Thankfulness,', 741), ('That', 742), ('The', 743), ('Then', 744), ('There', 745), ('Therefore', 746), ('Therefore,', 747), ('Thereupon', 748), ('They', 749), ('Thicket,', 750), ('Thing', 751), ('Thing;', 752), ('Things', 753), ('Things,', 754), ('Things;', 755), ('This', 756), ('Thoughts', 757), ('Thoughts,', 758), ('Thread', 759), ('Thread;', 760), ('Throat', 761), ('Throne,', 762), ('Throne;', 763), ('Time', 764), ('Time,', 765), ('Time;', 766), ('Times,', 767), ('Tis', 768), ('Titles', 769), ('To', 770), ('Tongue;', 771), ('Tongues', 772), ('Tongues,', 773), ('Tory', 774), ('Tory,', 775), ('Towns', 776), ('Trade', 777), ('Trade,', 778), ('Trade;', 779), ('Tradesman', 780), ('Tranquillity', 781), ('Treason', 782), ('Treasure', 783), ('Treasures', 784), ('Treaties', 785), ('Treaties,', 786), ('Treaty', 787), ('Treaty,', 788), ('Treaty;', 789), ('Tribute', 790), ('Triumph,', 791), ('Triumph;', 792), ('Triumvirate', 793), ('Trophies', 794), ('Trophies,', 795), ('Trust,', 796), ('Trustees', 797), ('Turtle', 798), ('Under', 799), ('Underlings', 800), ('Undertakers', 801), ('Undertaking', 802), ('Union', 803), ('Union,', 804), ('Union;', 805), ('Universe,', 806), ('Upon', 807), ('Validity', 808), ('Valour', 809), ('Variety', 810), ('Vassalages,', 811), ('Vassals,', 812), ('Veins', 813), ('Verdicts', 814), ('Victories;', 815), ('View', 816), ('Viper,', 817), ('Vision', 818), ('Voice', 819), ('Vote', 820), ('Vote,', 821), ('Walking', 822), ('Wall', 823), ('War', 824), ('War,', 825), ('Wars', 826), ('Watch', 827), ('Water', 828), ('Way,', 829), ('We', 830), ('Weeks', 831), ('Welfare', 832), ('Well-being', 833), ('What', 834), ('What,', 835), ('When', 836), ('Where', 837), ('Whereas', 838), ('Whether', 839), ('Which', 840), ('Whig', 841), ('Whig,', 842), ('Whip', 843), ('Why', 844), ('Wife', 845), ('Will', 846), ('Witnesses', 847), ('Work', 848), ('World', 849), ('World,', 850), ('Writs', 851), ('Yea,', 852), ('Year', 853), ('Years,', 854), ('Yet,', 855), ('[After', 856), ('[No', 857), (']', 858), ('a', 859), ('able', 860), ('abortive,', 861), ('about', 862), ('about,', 863), ('above', 864), ('abroad;', 865), ('according', 866), ('accountable', 867), ('add', 868), ('adjusted,', 869), ('adorned', 870), ('advanced', 871), ('afflicting', 872), ('afford', 873), ('afraid', 874), ('after', 875), ('after,', 876), ('after;', 877), ('afterwards', 878), ('again', 879), ('again;', 880), ('against', 881), ('agree', 882), ('agreeable', 883), ('agreeing', 884), ('all', 885), ('all,', 886), ('allay', 887), ('allow', 888), ('almost', 889), ('also', 890), ('altered', 891), ('altered,', 892), ('altogether,', 893), ('always', 894), ('am', 895), ('amended,', 896), ('among', 897), ('amongst', 898), ('ample', 899), ('an', 900), ('ancient', 901), ('and', 902), ('and,', 903), ('annual', 904), ('another', 905), ('another,', 906), ('answer', 907), ('answer]', 908), ('answerable', 909), ('answered', 910), ('antedated', 911), ('anxious', 912), ('any', 913), ('appear', 914), ('appeared', 915), ('appears', 916), ('applanded', 917), ('applied', 918), ('appoint', 919), ('appointed', 920), ('arbitrary', 921), ('are', 922), ('are;', 923), ('argue', 924), ('as', 925), ('aside', 926), ('at', 927), ('attending', 928), ('authorize', 929), ('back', 930), ('bad,', 931), ('bashful', 932), ('be', 933), ('be,', 934), ('beaten', 935), ('beating', 936), ('because', 937), ('become', 938), ('becomes', 939), ('been', 940), ('before', 941), ('before,', 942), ('beg', 943), ('beg,', 944), ('begin', 945), ('behave', 946), ('behind', 947), ('being', 948), ('beloved', 949), ('bended', 950), ('besides', 951), ('besieged', 952), ('best', 953), ('bestowing', 954), ('better', 955), ('betwixt', 956), ('blessed', 957), ('blinded', 958), ('bloody', 959), ('bold', 960), ('both', 961), ('bound', 962), ('brave', 963), ('breathing', 964), ('breeds;', 965), ('briguing', 966), ('brings', 967), ('broke', 968), ('broken,', 969), ('brought', 970), ('bruise', 971), ('but', 972), ('but,', 973), ('by', 974), ('call', 975), ('called', 976), ('calling', 977), ('calm,', 978), ('came', 979), ('can', 980), ('cannot', 981), ('capital', 982), ('case', 983), ('cast', 984), ('caught', 985), ('certainly', 986), ('changed', 987), ('chief', 988), ('choice,', 989), ('chuses', 990), ('civil', 991), ('coarser,', 992), ('come', 993), ('comely', 994), ('comes', 995), ('commend', 996), ('common', 997), ('comparing', 998), ('complaisant,', 999), ('compleat', 1000), ('comprehends', 1001), ('comradish', 1002), ('concern', 1003), ('conclude', 1004), ('conclude,', 1005), ('concluding', 1006), ('condescend', 1007), ('condescended', 1008), ('conquered', 1009), ('consequence,', 1010), ('consider', 1011), ('considerable', 1012), ('considered', 1013), ('considering', 1014), ('considering,', 1015), ('consistent', 1016), ('contained', 1017), ('contemptible', 1018), ('content', 1019), ('continued', 1020), ('contract', 1021), ('contrary', 1022), ('contrive,', 1023), ('contrived', 1024), ('convert', 1025), ('cordially', 1026), ('corrected', 1027), ('could', 1028), ('covering', 1029), ('crescunt', 1030), ('crouded', 1031), ('crowned', 1032), ('cruel', 1033), ('crush', 1034), ('cursing', 1035), ('d', 1036), ('danger', 1037), ('dangerous', 1038), ('de', 1039), ('dead', 1040), ('deafned', 1041), ('dear', 1042), ('declare', 1043), ('declared', 1044), ('declaring', 1045), ('deep', 1046), ('defend', 1047), ('delivering', 1048), ('demolish', 1049), ('denote', 1050), ('depend', 1051), ('depends', 1052), ('descending', 1053), ('describe', 1054), ('design', 1055), ('desire', 1056), ('desiring', 1057), ('desolate', 1058), ('despair', 1059), ('destroy', 1060), ('determine', 1061), ('determined,', 1062), ('determines', 1063), ('did', 1064), ('different', 1065), ('difficult', 1066), ('difficulty', 1067), ('disappointed', 1068), ('disburden', 1069), ('dishonourable', 1070), ('distinct', 1071), ('distinctly,', 1072), ('diversity', 1073), ('divested', 1074), ('do', 1075), ('don', 1076), ('done', 1077), ('doubt', 1078), ('down', 1079), ('down,', 1080), ('down-right', 1081), ('dreading', 1082), ('drinking', 1083), ('driving', 1084), ('drooping', 1085), ('drop', 1086), ('dry', 1087), ('dumb', 1088), ('during', 1089), ('each', 1090), ('early', 1091), ('earning', 1092), ('earth', 1093), ('easy;', 1094), ('eat', 1095), ('eating', 1096), ('eclipsed', 1097), ('effectually', 1098), ('either', 1099), ('empower', 1100), ('encircling', 1101), ('encourage', 1102), ('end', 1103), ('end,', 1104), ('endeavour', 1105), ('endeavours', 1106), ('engaged', 1107), ('enquire', 1108), ('enter', 1109), ('entire', 1110), ('entrusted', 1111), ('equal', 1112), ('equal,', 1113), ('equally', 1114), ('ere', 1115), ('erected', 1116), ('established', 1117), ('even', 1118), ('ever', 1119), ('every', 1120), ('evil', 1121), ('exacted', 1122), ('excellent', 1123), ('explained', 1124), ('exposed,', 1125), ('exposing', 1126), ('expressed', 1127), ('extended', 1128), ('extinguished,', 1129), ('factious', 1130), ('fair', 1131), ('fair,', 1132), ('faithful', 1133), ('faithfully,', 1134), ('fall', 1135), ('falls', 1136), ('faltered', 1137), ('famous', 1138), ('far', 1139), ('farther', 1140), ('fashion;', 1141), ('fatal', 1142), ('fear', 1143), ('federal', 1144), ('fenced', 1145), ('fettered', 1146), ('few', 1147), ('fideli,', 1148), ('fierce,', 1149), ('fighting', 1150), ('fili', 1151), ('find', 1152), ('finding', 1153), ('fine', 1154), ('finer,', 1155), ('finish', 1156), ('finished', 1157), ('firm,', 1158), ('first', 1159), ('first,', 1160), ('fit', 1161), ('fit;', 1162), ('fitted', 1163), ('follow', 1164), ('foot', 1165), ('footing', 1166), ('for', 1167), ('forbid', 1168), ('foreign', 1169), ('forgive', 1170), ('formal', 1171), ('former', 1172), ('formerly', 1173), ('fortified', 1174), ('found', 1175), ('found,', 1176), ('founded', 1177), ('fourth', 1178), ('framed', 1179), ('frankly', 1180), ('free', 1181), ('freely', 1182), ('freely,', 1183), ('frighted', 1184), ('from', 1185), ('full', 1186), ('full,', 1187), ('fully', 1188), ('further', 1189), ('further,', 1190), ('gallant', 1191), ('general,', 1192), ('generally', 1193), ('give', 1194), ('gives', 1195), ('glorious', 1196), ('glorious,', 1197), ('go', 1198), ('going', 1199), ('golden', 1200), ('gone', 1201), ('gone,', 1202), ('good', 1203), ('got', 1204), ('gracious', 1205), ('graciously', 1206), ('grasping', 1207), ('gravelled', 1208), ('great', 1209), ('great,', 1210), ('greater', 1211), ('greatest', 1212), ('guilty', 1213), ('gushed', 1214), ('habitable', 1215), ('had', 1216), ('handed', 1217), ('hanging', 1218), ('happy', 1219), ('happy;', 1220), ('hard', 1221), ('hardened', 1222), ('has', 1223), ('hath', 1224), ('have', 1225), ('having', 1226), ('having,', 1227), ('he', 1228), ('head', 1229), ('headlong', 1230), ('hear', 1231), ('heard', 1232), ('hearted', 1233), ('heartily', 1234), ('hedged', 1235), ('her', 1236), ('her,', 1237), ('here,', 1238), ('here;', 1239), ('herself', 1240), ('heterogeneous', 1241), ('hid', 1242), ('high-minded,', 1243), ('him', 1244), ('him,', 1245), ('him;', 1246), ('himself', 1247), ('himself,', 1248), ('himself;', 1249), ('hinder', 1250), ('hinders', 1251), ('his', 1252), ('hold', 1253), ('home', 1254), ('honest', 1255), ('honorable', 1256), ('honourable', 1257), ('hope,', 1258), ('how', 1259), ('humble', 1260), ('humbly', 1261), ('idea', 1262), ('if', 1263), ('ill-made', 1264), ('illustrious', 1265), ('immortal', 1266), ('important', 1267), ('in', 1268), ('in,', 1269), ('incorporating', 1270), ('incurable', 1271), ('indeed', 1272), ('independent', 1273), ('independent,', 1274), ('individual', 1275), ('induced', 1276), ('industrious', 1277), ('inferred;', 1278), ('inform', 1279), ('informed,', 1280), ('insist', 1281), ('intend', 1282), ('intervening,', 1283), ('into', 1284), ('into,', 1285), ('is', 1286), ('is,', 1287), ('it', 1288), ('it,', 1289), ('it;', 1290), ('its', 1291), ('itself;', 1292), ('jure', 1293), ('justly', 1294), ('keep,', 1295), ('kept', 1296), ('killed', 1297), ('kind', 1298), ('knew', 1299), ('know', 1300), ('known', 1301), ('known;', 1302), ('laborious', 1303), ('laid', 1304), ('last', 1305), ('lastly,', 1306), ('late,', 1307), ('lay', 1308), ('laying', 1309), ('learn', 1310), ('learned', 1311), ('least', 1312), ('leathern', 1313), ('leave', 1314), ('led', 1315), ('left', 1316), ('legal', 1317), ('legislative', 1318), ('length', 1319), ('less', 1320), ('lest', 1321), ('let', 1322), ('liberty', 1323), ('lies', 1324), ('like', 1325), ('likewise,', 1326), ('ll', 1327), ('loaded', 1328), ('long', 1329), ('look', 1330), ('looked', 1331), ('looking', 1332), ('looks', 1333), ('lose', 1334), ('loss', 1335), ('loves', 1336), ('loyal,', 1337), ('made', 1338), ('maintained', 1339), ('make', 1340), ('makes', 1341), ('making', 1342), ('manage', 1343), ('managed', 1344), ('managed,', 1345), ('manner', 1346), ('many', 1347), ('married', 1348), ('marry', 1349), ('marry;', 1350), ('material', 1351), ('maugre', 1352), ('may', 1353), ('me', 1354), ('me;', 1355), ('mean', 1356), ('meanest', 1357), ('meet', 1358), ('melancholy', 1359), ('melted', 1360), ('memorable', 1361), ('merits', 1362), ('merry', 1363), ('mi', 1364), ('midst', 1365), ('might', 1366), ('minatory', 1367), ('mind', 1368), ('miserable', 1369), ('mixed', 1370), ('more', 1371), ('mortal', 1372), ('most', 1373), ('much', 1374), ('municipal', 1375), ('must', 1376), ('my', 1377), ('myself', 1378), ('myself,', 1379), ('naked', 1380), ('narrate', 1381), ('narrowly', 1382), ('national', 1383), ('natural', 1384), ('necessary', 1385), ('necessary;', 1386), ('necessitate', 1387), ('need,', 1388), ('neither', 1389), ('never', 1390), ('new', 1391), ('new;', 1392), ('next', 1393), ('no', 1394), ('no,', 1395), ('noble', 1396), ('nor', 1397), ('not', 1398), ('nothing', 1399), ('notice', 1400), ('notice,', 1401), ('notwithstanding', 1402), ('now', 1403), ('now,', 1404), ('obedient', 1405), ('obey,', 1406), ('obligatory', 1407), ('obscure', 1408), ('obscure,', 1409), ('observed,', 1410), ('obstinate,', 1411), ('obvious', 1412), ('occasion', 1413), ('occasions', 1414), ('of', 1415), ('off', 1416), ('often,', 1417), ('old', 1418), ('old,', 1419), ('on', 1420), ('once', 1421), ('one', 1422), ('one;', 1423), ('only', 1424), ('only,', 1425), ('open', 1426), ('opening', 1427), ('opima,', 1428), ('or', 1429), ('order', 1430), ('other', 1431), ('other,', 1432), ('others', 1433), ('others,', 1434), ('otherwise', 1435), ('otherwise,', 1436), ('our', 1437), ('ours', 1438), ('ourselves,', 1439), ('out', 1440), ('out,', 1441), ('outshoot', 1442), ('over', 1443), ('over-run', 1444), ('over-weening', 1445), ('own', 1446), ('paid', 1447), ('part', 1448), ('particular', 1449), ('particularly', 1450), ('parvÃ¦', 1451), ('passed', 1452), ('passing', 1453), ('past,', 1454), ('pave', 1455), ('pay', 1456), ('peace,', 1457), ('peaceful,', 1458), ('perceive', 1459), ('perish', 1460), ('perpetual', 1461), ('personal', 1462), ('persuade', 1463), ('petitioning', 1464), ('petty', 1465), ('piece', 1466), ('piece,', 1467), ('piece;', 1468), ('place', 1469), ('pleased', 1470), ('pointed,', 1471), ('political', 1472), ('poor', 1473), ('positive', 1474), ('practicable,', 1475), ('precarious;', 1476), ('present', 1477), ('present,', 1478), ('preserve', 1479), ('pretty', 1480), ('prevented', 1481), ('previous', 1482), ('previously', 1483), ('private', 1484), ('probable', 1485), ('proceed', 1486), ('profess', 1487), ('prohibitory', 1488), ('proper', 1489), ('propose', 1490), ('propose,', 1491), ('proposed', 1492), ('protected', 1493), ('prove', 1494), ('prove,', 1495), ('proved', 1496), ('provided', 1497), ('prudent', 1498), ('prudently', 1499), ('punished', 1500), ('purchased', 1501), ('pursue', 1502), ('pussed', 1503), ('put', 1504), ('putting', 1505), ('quiet', 1506), ('quite', 1507), ('quondam', 1508), ('quoque', 1509), ('read', 1510), ('read,', 1511), ('reasoning', 1512), ('receive', 1513), ('receives', 1514), ('reduced', 1515), ('refuse', 1516), ('relates', 1517), ('relation', 1518), ('relieved,', 1519), ('remaining', 1520), ('remains', 1521), ('remains,', 1522), ('remember,', 1523), ('remote', 1524), ('removed', 1525), ('removing', 1526), ('rendering', 1527), ('renders', 1528), ('renew', 1529), ('repeated', 1530), ('represent', 1531), ('represents', 1532), ('require,', 1533), ('res', 1534), ('reserved', 1535), ('resolve', 1536), ('resolved', 1537), ('respect', 1538), ('rest', 1539), ('rest,', 1540), ('retain', 1541), ('return', 1542), ('reverence', 1543), ('revising', 1544), ('rich,', 1545), ('riding', 1546), ('right', 1547), ('root,', 1548), ('round', 1549), ('routed,', 1550), ('rouze', 1551), ('royal', 1552), ('ruefully', 1553), ('s', 1554), ('s,', 1555), ('sacred', 1556), ('sad', 1557), ('said', 1558), ('said;', 1559), ('saltless', 1560), ('same', 1561), ('sat', 1562), ('satisfactory,', 1563), ('satisfy', 1564), ('save', 1565), ('say', 1566), ('say,', 1567), ('say;', 1568), ('scrupulous', 1569), ('searching', 1570), ('seasonably', 1571), ('seconded', 1572), ('secure', 1573), ('secured', 1574), ('secured;', 1575), ('see', 1576), ('seeds', 1577), ('seem', 1578), ('seemed', 1579), ('seems', 1580), ('seize', 1581), ('self', 1582), ('selves', 1583), ('sent', 1584), ('sentiments', 1585), ('serious', 1586), ('serve', 1587), ('settered,', 1588), ('setting', 1589), ('several', 1590), ('sewed', 1591), ('shall', 1592), ('shameful', 1593), ('shed', 1594), ('shelter', 1595), ('shew', 1596), ('shewing,', 1597), ('short,', 1598), ('should', 1599), ('since', 1600), ('single', 1601), ('sit', 1602), ('sitting', 1603), ('small', 1604), ('so', 1605), ('so,', 1606), ('some', 1607), ('something', 1608), ('sometimes', 1609), ('somewhat', 1610), ('soon', 1611), ('sorry', 1612), ('sown,', 1613), ('speak', 1614), ('speaks', 1615), ('split', 1616), ('spoiling', 1617), ('spoke', 1618), ('spolia', 1619), ('square', 1620), ('stand', 1621), ('standing', 1622), ('stop', 1623), ('strange', 1624), ('strictest', 1625), ('strive', 1626), ('strong', 1627), ('struggled', 1628), ('studying', 1629), ('subdued', 1630), ('subject', 1631), ('subjected', 1632), ('succeed', 1633), ('successful', 1634), ('successive', 1635), ('such', 1636), ('such,', 1637), ('suffered', 1638), ('sufficiency', 1639), ('suggested', 1640), ('suppose', 1641), ('surprising;', 1642), ('t', 1643), ('take', 1644), ('taken', 1645), ('taken,', 1646), ('takes', 1647), ('taking', 1648), ('tell', 1649), ('ten', 1650), ('tend', 1651), ('termed', 1652), ('than', 1653), ('that', 1654), ('that,', 1655), ('the', 1656), ('their', 1657), ('them', 1658), ('them,', 1659), ('them;', 1660), ('themselves', 1661), ('themselves,', 1662), ('then', 1663), ('then,', 1664), ('there', 1665), ('therefore', 1666), ('therefore,', 1667), ('therein', 1668), ('thereof,', 1669), ('thereupon', 1670), ('these', 1671), ('these,', 1672), ('they', 1673), ('thing', 1674), ('thing,', 1675), ('things', 1676), ('think', 1677), ('think,', 1678), ('thinks', 1679), ('this', 1680), ('this,', 1681), ('tho', 1682), ('thou', 1683), ('though', 1684), ('thought', 1685), ('threads,', 1686), ('threatning', 1687), ('three', 1688), ('through', 1689), ('thrown', 1690), ('thus', 1691), ('thy', 1692), ('tied', 1693), ('till', 1694), ('time', 1695), ('time,', 1696), ('time;', 1697), ('timely', 1698), ('times', 1699), ('to', 1700), ('to,', 1701), ('to;', 1702), ('together', 1703), ('together,', 1704), ('too', 1705), ('trading', 1706), ('treat', 1707), ('treat,', 1708), ('treating', 1709), ('triumphal', 1710), ('trivial', 1711), ('troublesome', 1712), ('true', 1713), ('true-blue', 1714), ('tu', 1715), ('turn', 1716), ('turned', 1717), ('two', 1718), ('unaccountable', 1719), ('unbind', 1720), ('uncertain', 1721), ('under', 1722), ('understanding', 1723), ('understood', 1724), ('understood,', 1725), ('undertake', 1726), ('unequal', 1727), ('unforeseen', 1728), ('unite', 1729), ('unite;', 1730), ('united,', 1731), ('unjust', 1732), ('unkind', 1733), ('unnatural', 1734), ('unnecessary', 1735), ('unpopular', 1736), ('unsuccessful', 1737), ('unto', 1738), ('up', 1739), ('upon', 1740), ('us', 1741), ('us,', 1742), ('us;', 1743), ('use', 1744), ('used', 1745), ('valiant', 1746), ('valid', 1747), ('valorous,', 1748), ('various', 1749), ('vast', 1750), ('venture', 1751), ('very', 1752), ('victorious,', 1753), ('vivify', 1754), ('voluntarily', 1755), ('walking', 1756), ('want', 1757), ('warlike', 1758), ('warn', 1759), ('was', 1760), ('waste', 1761), ('way', 1762), ('ways', 1763), ('we', 1764), ('weighty', 1765), ('well', 1766), ('well,', 1767), ('were', 1768), ('were,', 1769), ('what', 1770), ('when', 1771), ('where', 1772), ('whereas', 1773), ('whereby', 1774), ('whether', 1775), ('which', 1776), ('which,', 1777), ('while', 1778), ('whip', 1779), ('who', 1780), ('who,', 1781), ('whole', 1782), ('wholly', 1783), ('whom', 1784), ('whose', 1785), ('will', 1786), ('will,', 1787), ('willing', 1788), ('wise', 1789), ('wish', 1790), ('wit,', 1791), ('with', 1792), ('within', 1793), ('without', 1794), ('wormed', 1795), ('worse', 1796), ('worst', 1797), ('worth', 1798), ('would', 1799), ('ye', 1800), ('yea,', 1801), ('yet', 1802), ('you', 1803), ('you,', 1804), ('youngest', 1805), ('your', 1806), ('Ã†sop', 1807)])"
      ]
     },
     "execution_count": 18,
     "metadata": {},
     "output_type": "execute_result"
    }
   ],
   "source": [
    "vocab = { token:index for index, token in enumerate(tokens)}\n",
    "vocab.items()"
   ]
  },
  {
   "cell_type": "code",
   "execution_count": 19,
   "id": "5c3bde2c",
   "metadata": {},
   "outputs": [
    {
     "name": "stdout",
     "output_type": "stream",
     "text": [
      "I think I see a free and independent Kingdom delivering up that, which all the World hath been fighting for since the Days of Nimrod; yea, that for which most of all the Empires, Kingdoms, States, Principalities, and Dukedoms of Europe, are at this time engaged in the most bloody and cruel Wars that ever were, to wit, a Power to manage their own Affairs by themselves, without the Assistance and Counsel of any other.\n"
     ]
    }
   ],
   "source": [
    "phrase = \"I think I see a free and independent Kingdom delivering up that, which all the World hath been fighting for since the Days of Nimrod; yea, that for which most of all the Empires, Kingdoms, States, Principalities, and Dukedoms of Europe, are at this time engaged in the most bloody and cruel Wars that ever were, to wit, a Power to manage their own Affairs by themselves, without the Assistance and Counsel of any other.\"\n",
    "print(phrase)"
   ]
  },
  {
   "cell_type": "code",
   "execution_count": 20,
   "id": "62e8e282",
   "metadata": {},
   "outputs": [
    {
     "name": "stdout",
     "output_type": "stream",
     "text": [
      "['I', 'think', 'I', 'see', 'a', 'free', 'and', 'independent', 'Kingdom', 'delivering', 'up', 'that,', 'which', 'all', 'the', 'World', 'hath', 'been', 'fighting', 'for', 'since', 'the', 'Days', 'of', 'Nimrod;', 'yea,', 'that', 'for', 'which', 'most', 'of', 'all', 'the', 'Empires,', 'Kingdoms,', 'States,', 'Principalities,', 'and', 'Dukedoms', 'of', 'Europe,', 'are', 'at', 'this', 'time', 'engaged', 'in', 'the', 'most', 'bloody', 'and', 'cruel', 'Wars', 'that', 'ever', 'were,', 'to', 'wit,', 'a', 'Power', 'to', 'manage', 'their', 'own', 'Affairs', 'by', 'themselves,', 'without', 'the', 'Assistance', 'and', 'Counsel', 'of', 'any', 'other', '.']\n"
     ]
    }
   ],
   "source": [
    "phrase = re.split( r'([.?!:())\"\\'“”‘’^]|\\s)', phrase)\n",
    "phrase = [ item for item in phrase if item.split() ]\n",
    "print(phrase)"
   ]
  },
  {
   "cell_type": "code",
   "execution_count": 21,
   "id": "00650e6f",
   "metadata": {},
   "outputs": [
    {
     "name": "stdout",
     "output_type": "stream",
     "text": [
      "[358, 1677, 358, 1576, 859, 1181, 902, 1273, 397, 1048, 1739, 1655, 1776, 885, 1656, 849, 1224, 940, 1150, 1167, 1600, 1656, 188, 1415, 502, 1801, 1654, 1167, 1776, 1373, 1415, 885, 1656, 236, 401, 709, 590, 902, 230, 1415, 257, 922, 927, 1680, 1695, 1107, 1268, 1656, 1373, 959, 902, 1033, 826, 1654, 1119, 1769, 1700, 1791, 859, 573, 1700, 1343, 1657, 1446, 26, 974, 1662, 1794, 1656, 62, 902, 172, 1415, 913, 1431, 6]\n"
     ]
    }
   ],
   "source": [
    "ids = [ vocab[token] for token in phrase]\n",
    "print(ids)"
   ]
  },
  {
   "cell_type": "code",
   "execution_count": 22,
   "id": "8d1f1912",
   "metadata": {},
   "outputs": [
    {
     "data": {
      "text/plain": [
       "256"
      ]
     },
     "execution_count": 22,
     "metadata": {},
     "output_type": "execute_result"
    }
   ],
   "source": [
    "vocab[ \"Europe\"]"
   ]
  },
  {
   "cell_type": "code",
   "execution_count": 23,
   "id": "488a372f",
   "metadata": {},
   "outputs": [
    {
     "data": {
      "text/plain": [
       "dict_items([(0, '!'), (1, '\"'), (2, '&c'), (3, \"'\"), (4, '('), (5, ')'), (6, '.'), (7, '1604'), (8, '2000'), (9, ':'), (10, '<|endoftext|>'), (11, '<|unk|>'), (12, '?'), (13, 'A'), (14, 'ANN,'), (15, 'Abolition'), (16, 'Abroad,'), (17, 'Account,'), (18, 'Act'), (19, 'Act,'), (20, 'Administration,'), (21, 'Advantage'), (22, 'Advice'), (23, 'Advices'), (24, 'Affair'), (25, 'Affair,'), (26, 'Affairs'), (27, 'Affairs;'), (28, 'Agape,'), (29, 'Ah'), (30, 'Air,'), (31, 'Ale,'), (32, 'All'), (33, 'Alliances,'), (34, 'Almighty'), (35, 'Alteration'), (36, 'Anabaptists,'), (37, 'Ancestors'), (38, 'And'), (39, 'And,'), (40, 'Animosities'), (41, 'Annihilations,'), (42, 'Anti-courtier'), (43, 'Antistatesman'), (44, 'Ape,'), (45, 'Appeals'), (46, 'Appearance,'), (47, 'Appearances'), (48, 'Application'), (49, 'Are'), (50, 'Arguments'), (51, 'Aristocracy,'), (52, 'Armies'), (53, 'Armies,'), (54, 'Arminians,'), (55, 'Article'), (56, 'Article,'), (57, 'Article;'), (58, 'Articles'), (59, 'Articles,'), (60, 'Assent'), (61, 'Assertors'), (62, 'Assistance'), (63, 'Attempts,'), (64, 'Attorneys,'), (65, 'Avocations,'), (66, 'Balance;'), (67, 'Bargain'), (68, 'Bargain,'), (69, 'Bargains'), (70, 'Barons,'), (71, 'Bed'), (72, 'Beginning'), (73, 'Behaviour'), (74, 'Being'), (75, 'Bell,'), (76, 'Benefices,'), (77, 'Besides,'), (78, 'Bill'), (79, 'Bird'), (80, 'Birth,'), (81, 'Blessing'), (82, 'Blood'), (83, 'Blow,'), (84, 'Body,'), (85, 'Body;'), (86, 'Bones'), (87, 'Book'), (88, 'Boroughs'), (89, 'Bow'), (90, 'Branches'), (91, 'Bread'), (92, 'Brethren'), (93, 'Brother'), (94, 'Burial,'), (95, 'But'), (96, 'Bygones'), (97, 'Bygones,'), (98, 'Cabbage-stock'), (99, 'Caledonia,'), (100, 'Campbels,'), (101, 'Cart-blanch'), (102, 'Certioraries,'), (103, 'Chain'), (104, 'Chains'), (105, 'Chancellor,'), (106, 'Change'), (107, 'Character'), (108, 'Charges'), (109, 'Chariot'), (110, 'Chariot,'), (111, 'Chieftains,'), (112, 'Christianity,'), (113, 'Church'), (114, 'Church,'), (115, 'Circumstances'), (116, 'Circumstances,'), (117, 'City'), (118, 'Claim'), (119, 'Classes,'), (120, 'Clause'), (121, 'Cloak'), (122, 'Cloth,'), (123, 'Cloud,'), (124, 'Cock'), (125, 'Cock,'), (126, 'Cockatrice'), (127, 'Colliflowers,'), (128, 'Colours,'), (129, 'Commerce'), (130, 'Commerce,'), (131, 'Commission,'), (132, 'Commissioner'), (133, 'Commissioner,'), (134, 'Commissioners'), (135, 'Commissioners,'), (136, 'Common'), (137, 'Companies'), (138, 'Companies,'), (139, 'Company'), (140, 'Complaints'), (141, 'Complaisance'), (142, 'Con'), (143, 'Concern'), (144, 'Concerns'), (145, 'Conclusion'), (146, 'Concordia'), (147, 'Condition'), (148, 'Conditions'), (149, 'Confidence'), (150, 'Conformity;'), (151, 'Confusion'), (152, 'Confusion,'), (153, 'Conqueror'), (154, 'Conquest;'), (155, 'Consequence'), (156, 'Consideration'), (157, 'Considerations'), (158, 'Considerations,'), (159, 'Constables'), (160, 'Constancy'), (161, 'Constituents,'), (162, 'Constitution'), (163, 'Constitution,'), (164, 'Constitutions'), (165, 'Contradiction,'), (166, 'Corn'), (167, 'Corner'), (168, 'Corps'), (169, 'Correction'), (170, 'Councils'), (171, 'Councils,'), (172, 'Counsel'), (173, 'Counter-Petitions'), (174, 'Countries,'), (175, 'Country,'), (176, 'Court'), (177, 'Courts'), (178, 'Creature,'), (179, 'Crime'), (180, 'Crown,'), (181, 'Culeus,'), (182, 'Customs,'), (183, 'CÃ¦sar,'), (184, 'Danger'), (185, 'Daughters'), (186, 'Day'), (187, 'Day,'), (188, 'Days'), (189, 'Dealings'), (190, 'Death'), (191, 'Debate,'), (192, 'Debts,'), (193, 'Decease'), (194, 'Decease;'), (195, 'Decisions,'), (196, 'Deed,'), (197, 'Deference,'), (198, 'Deliberation'), (199, 'Deliberation,'), (200, 'Deliverance'), (201, 'Deliverer,'), (202, 'Demands'), (203, 'Demands,'), (204, 'Demurs,'), (205, 'Design'), (206, 'Design,'), (207, 'Designs'), (208, 'Designs,'), (209, 'Designs;'), (210, 'Desire'), (211, 'Destruction'), (212, 'Detail'), (213, 'Determination'), (214, 'Difficulties'), (215, 'Dignities'), (216, 'Disappointmen,'), (217, 'Discourse'), (218, 'Discourse,'), (219, 'Discourses'), (220, 'Distance'), (221, 'Diversity'), (222, 'Divino'), (223, 'Division,'), (224, 'Divisions'), (225, 'Divisions,'), (226, 'Dog,'), (227, 'Dominions,'), (228, 'Drugget'), (229, 'Duke'), (230, 'Dukedoms'), (231, 'Dutch'), (232, 'Duty'), (233, 'Ears'), (234, 'Egg'), (235, 'Ejectione'), (236, 'Empires,'), (237, 'Employment'), (238, 'Emporium'), (239, 'Encouragement'), (240, 'Endeavours,'), (241, 'Enemies'), (242, 'Enemies,'), (243, 'England'), (244, 'England,'), (245, 'England;'), (246, 'English'), (247, 'Enquiry'), (248, 'Entail'), (249, 'Entail,'), (250, 'Episcopal'), (251, 'Equivalents,'), (252, 'Error,'), (253, 'Estate'), (254, 'Estates,'), (255, 'Et'), (256, 'Europe'), (257, 'Europe,'), (258, 'Excise,'), (259, 'Exciseman'), (260, 'Excises,'), (261, 'Expence'), (262, 'Expences,'), (263, 'Experience,'), (264, 'Exploits;'), (265, 'Extremity'), (266, 'Extremity,'), (267, 'Eyes'), (268, 'Factions'), (269, 'Factions,'), (270, 'Factions;'), (271, 'Fairplay'), (272, 'Faithfulness'), (273, 'Families'), (274, 'Families,'), (275, 'Fasts'), (276, 'Father'), (277, 'Favour'), (278, 'Favourite'), (279, 'Favours'), (280, 'Fear'), (281, 'Fellow,'), (282, 'Fidelity'), (283, 'Fig-tree,'), (284, 'Firmae,'), (285, 'Followers'), (286, 'Foot'), (287, 'For'), (288, 'Form'), (289, 'Fortune'), (290, 'Fortunes'), (291, 'Frowns'), (292, 'GOD'), (293, 'GOD;'), (294, 'Garment,'), (295, 'Gates,'), (296, 'Generals'), (297, 'Gentleman'), (298, 'Gibelins'), (299, 'Gladness,'), (300, 'Glory'), (301, 'God'), (302, 'God,'), (303, 'God;'), (304, 'Gold'), (305, 'Gold;'), (306, 'Good'), (307, 'Gordons,'), (308, 'Government'), (309, 'Government,'), (310, 'Grace'), (311, 'Grace,'), (312, 'Grahams,'), (313, 'Grandeur,'), (314, 'Grief'), (315, 'Guarantee'), (316, 'Guard'), (317, 'Guelfs'), (318, 'Hamiltons,'), (319, 'Hand'), (320, 'Hand,'), (321, 'Hands'), (322, 'Hands,'), (323, 'Hannibal'), (324, 'Hannibal,'), (325, 'Happiness'), (326, 'Hazard'), (327, 'He'), (328, 'Head-bands,'), (329, 'Heads'), (330, 'Heart'), (331, 'Heart,'), (332, 'Heart;'), (333, 'Hearts'), (334, 'Heats'), (335, 'Heats,'), (336, 'Hedge'), (337, 'Heirs'), (338, 'Help'), (339, 'Herb,'), (340, 'High'), (341, 'His'), (342, 'Holds'), (343, 'Homage'), (344, 'Home'), (345, 'Home-made'), (346, 'Honour'), (347, 'Honour,'), (348, 'House'), (349, 'House,'), (350, 'House;'), (351, 'Houses'), (352, 'However,'), (353, 'Humes,'), (354, 'Humiliations,'), (355, 'Husbands,'), (356, 'Huzza'), (357, 'Hydra'), (358, 'I'), (359, 'If'), (360, 'Image,'), (361, 'Impositions,'), (362, 'In'), (363, 'Inclination'), (364, 'Inclinations'), (365, 'Incorporation,'), (366, 'Incorporations,'), (367, 'Increase;'), (368, 'Independency'), (369, 'Independency,'), (370, 'Indignation,'), (371, 'Indovar,'), (372, 'Influence'), (373, 'Inhabitants'), (374, 'Injunctions,'), (375, 'Instructions'), (376, 'Instruments,'), (377, 'Interest'), (378, 'Interests,'), (379, 'Introduction'), (380, 'Is'), (381, 'Island'), (382, 'Isle,'), (383, 'It'), (384, 'Jars'), (385, 'Jehovah'), (386, 'Jews,'), (387, 'Jireh,'), (388, 'Johnstons,'), (389, 'Joseph'), (390, 'Judah'), (391, 'Judges'), (392, 'Judgment;'), (393, 'Judicature;'), (394, 'Kers,'), (395, 'Kindred,'), (396, 'King,'), (397, 'Kingdom'), (398, 'Kingdom,'), (399, 'Kingdom;'), (400, 'Kingdoms'), (401, 'Kingdoms,'), (402, 'Kirk'), (403, 'Knees'), (404, 'Knife'), (405, 'Lad,'), (406, 'Land,'), (407, 'Landed'), (408, 'Laurels'), (409, 'Laurels,'), (410, 'Law'), (411, 'Law,'), (412, 'Laws'), (413, 'Laws,'), (414, 'Let'), (415, 'Letter'), (416, 'Level'), (417, 'Liberties'), (418, 'Liberties;'), (419, 'Liberty'), (420, 'Liberty,'), (421, 'Life'), (422, 'Ligaments'), (423, 'Limitations'), (424, 'Limitations,'), (425, 'Lips,'), (426, 'Lives'), (427, 'Lord'), (428, 'Lord,'), (429, 'Lords'), (430, 'Lords-Commissioners'), (431, 'Lords-CommissionersTreaters'), (432, 'Lordships'), (433, 'Love'), (434, 'Love-feast'), (435, 'Mackallamores'), (436, 'Magnatum'), (437, 'Majesty'), (438, 'Majesty,'), (439, 'Man'), (440, 'Man,'), (441, 'Management'), (442, 'Management;'), (443, 'Managers'), (444, 'Manner'), (445, 'Manufactures,'), (446, 'Mariners'), (447, 'Marshals'), (448, 'Mass,'), (449, 'Matter'), (450, 'Means,'), (451, 'Measures'), (452, 'Measures;'), (453, 'Meat'), (454, 'Meditation;'), (455, 'Meditations,'), (456, 'Member'), (457, 'Members'), (458, 'Memory'), (459, 'Men'), (460, 'Men,'), (461, 'Merits'), (462, 'Metal'), (463, 'Metals,'), (464, 'Method'), (465, 'Method,'), (466, 'Mind'), (467, 'Ministers'), (468, 'Misery,'), (469, 'Misunderstandings'), (470, 'Mixture'), (471, 'Modesty'), (472, 'Monarchy'), (473, 'Monarchy,'), (474, 'Monitor'), (475, 'Moon'), (476, 'Moreover,'), (477, 'Mother'), (478, 'Motives'), (479, 'Mouths;'), (480, 'Murder'), (481, 'Murrays,'), (482, 'My'), (483, 'Name'), (484, 'Name,'), (485, 'Names'), (486, 'Names,'), (487, 'Narrow-heartedness'), (488, 'Nation'), (489, 'Nation,'), (490, 'Nation;'), (491, 'Nations'), (492, 'Nations,'), (493, 'Nature'), (494, 'Navy'), (495, 'Nebuchadnezzar'), (496, 'Necessity'), (497, 'Necessity,'), (498, 'Neighbours'), (499, 'Neighbours,'), (500, 'Neighbours;'), (501, 'Nicety,'), (502, 'Nimrod;'), (503, 'Nisi'), (504, 'No,'), (505, 'Nomination'), (506, 'None'), (507, 'Notice'), (508, 'Notion'), (509, 'Now,'), (510, 'Number'), (511, 'Oath'), (512, 'Occasional'), (513, 'Of'), (514, 'Officers'), (515, 'Opinion'), (516, 'Opinion,'), (517, 'Opportunity'), (518, 'Opposition,'), (519, 'Order'), (520, 'Ordination,'), (521, 'Our'), (522, 'Oxen'), (523, 'Pains'), (524, 'Papists,'), (525, 'Pardon'), (526, 'Parliament'), (527, 'Parliament,'), (528, 'Parliament;'), (529, 'Parliaments,'), (530, 'Parricide'), (531, 'Parricide,'), (532, 'Part'), (533, 'Part,'), (534, 'Particular'), (535, 'Particulars,'), (536, 'Parties'), (537, 'Partners;'), (538, 'Patria'), (539, 'Patricide'), (540, 'Patriots'), (541, 'Pause'), (542, 'Peace'), (543, 'Peace,'), (544, 'Peace-makers;'), (545, 'Peerage'), (546, 'Peers'), (547, 'Peers,'), (548, 'Pen,'), (549, 'People'), (550, 'People,'), (551, 'Perseverance,'), (552, 'Person'), (553, 'Persons'), (554, 'Piece'), (555, 'Piece,'), (556, 'Pieces'), (557, 'Place,'), (558, 'Places'), (559, 'Places,'), (560, 'Plain,'), (561, 'Plantation-Trade'), (562, 'Plough'), (563, 'Ploughman,'), (564, 'Point'), (565, 'Points'), (566, 'Positions,'), (567, 'Post'), (568, 'Posterity'), (569, 'Posterity,'), (570, 'Posts'), (571, 'Potentate,'), (572, 'Pottage,'), (573, 'Power'), (574, 'Power,'), (575, 'Powers'), (576, 'Practiques'), (577, 'Pragmatic'), (578, 'Predecessors'), (579, 'Predecessors,'), (580, 'Prelude'), (581, 'Premisses'), (582, 'Prentices'), (583, 'Presbyterian,'), (584, 'Prescriptions,'), (585, 'Presence'), (586, 'Presses'), (587, 'Prince'), (588, 'Prince,'), (589, 'Princess'), (590, 'Principalities,'), (591, 'Principles,'), (592, 'Prisoners,'), (593, 'Prius'), (594, 'Pro'), (595, 'Proceeding'), (596, 'Progenitors'), (597, 'Proposal'), (598, 'Proposals'), (599, 'Prosecution'), (600, 'Prosperity'), (601, 'Proverb,'), (602, 'Providence'), (603, 'Providence,'), (604, 'Provinces'), (605, 'Provinces,'), (606, 'Proviso,'), (607, 'Punishment,'), (608, 'Punishments'), (609, 'Purpose,'), (610, 'Queen'), (611, 'Queen,'), (612, 'Queens,'), (613, 'Queensbary,'), (614, 'Question'), (615, 'Rate,'), (616, 'Rates,'), (617, 'Reason'), (618, 'Reasons'), (619, 'Reasons,'), (620, 'Records'), (621, 'Records,'), (622, 'Recourse'), (623, 'Rectification'), (624, 'Rectifications'), (625, 'Regalia,'), (626, 'Regulations'), (627, 'Reign'), (628, 'Rejoicing'), (629, 'Relation'), (630, 'Religion,'), (631, 'Rem'), (632, 'Repetition'), (633, 'Repetitions'), (634, 'Representatives'), (635, 'Requests'), (636, 'Resolution'), (637, 'Resolve,'), (638, 'Resolved,'), (639, 'Respect'), (640, 'Results'), (641, 'Revolution'), (642, 'Reward'), (643, 'Riches,'), (644, 'Right,'), (645, 'Rights'), (646, 'Rock,'), (647, 'Rods'), (648, 'Roman,'), (649, 'Rome;'), (650, 'Royal'), (651, 'Sack,'), (652, 'Safety'), (653, 'Sale,'), (654, 'Salvation'), (655, 'Sanction'), (656, 'Satisfaction'), (657, 'Saying'), (658, 'Scandalum'), (659, 'Scotchman'), (660, 'Scotland'), (661, 'Scotland,'), (662, 'Scots'), (663, 'Sea'), (664, 'Sectaries,'), (665, 'Security'), (666, 'Security,'), (667, 'Seed'), (668, 'Self-Designs'), (669, 'Self-defence'), (670, 'Self-denying'), (671, 'Self-designs,'), (672, 'Senate,'), (673, 'Session'), (674, 'Shall'), (675, 'Ships'), (676, 'Should'), (677, 'Side,'), (678, 'Sieges'), (679, 'Sight'), (680, 'Significations,'), (681, 'Silence,'), (682, 'Sinews'), (683, 'Situations'), (684, 'Slaves'), (685, 'Socinians,'), (686, 'Soldiers'), (687, 'Soldiery'), (688, 'Some'), (689, 'Son'), (690, 'Sons'), (691, 'Sophia'), (692, 'Souls'), (693, 'Source'), (694, 'Sovereign'), (695, 'Sovereign,'), (696, 'Sovereign;'), (697, 'Sovereigne;'), (698, 'Sovereignty'), (699, 'Sovereignty,'), (700, 'Speakers'), (701, 'Specialities'), (702, 'Spirits'), (703, 'Spokesmen'), (704, 'Stake'), (705, 'Staple'), (706, 'State'), (707, 'State,'), (708, 'State-Project,'), (709, 'States,'), (710, 'Statesman,'), (711, 'Statesman;'), (712, 'Statesmen,'), (713, 'Statue'), (714, 'Statute-Books,'), (715, 'Story'), (716, 'Streets,'), (717, 'Strength'), (718, 'Stuarts,'), (719, 'Subject'), (720, 'Subject,'), (721, 'Subjects'), (722, 'Subjects,'), (723, 'Subsistance,'), (724, 'Substance'), (725, 'Success'), (726, 'Succession'), (727, 'Succession,'), (728, 'Successor,'), (729, 'Successors'), (730, 'Suit'), (731, 'Surrender'), (732, 'Surrrender,'), (733, 'Swords'), (734, 'Table,'), (735, 'Taxes'), (736, 'Taxes,'), (737, 'Tear,'), (738, 'Terms'), (739, 'Terms;'), (740, 'Terror'), (741, 'Thankfulness,'), (742, 'That'), (743, 'The'), (744, 'Then'), (745, 'There'), (746, 'Therefore'), (747, 'Therefore,'), (748, 'Thereupon'), (749, 'They'), (750, 'Thicket,'), (751, 'Thing'), (752, 'Thing;'), (753, 'Things'), (754, 'Things,'), (755, 'Things;'), (756, 'This'), (757, 'Thoughts'), (758, 'Thoughts,'), (759, 'Thread'), (760, 'Thread;'), (761, 'Throat'), (762, 'Throne,'), (763, 'Throne;'), (764, 'Time'), (765, 'Time,'), (766, 'Time;'), (767, 'Times,'), (768, 'Tis'), (769, 'Titles'), (770, 'To'), (771, 'Tongue;'), (772, 'Tongues'), (773, 'Tongues,'), (774, 'Tory'), (775, 'Tory,'), (776, 'Towns'), (777, 'Trade'), (778, 'Trade,'), (779, 'Trade;'), (780, 'Tradesman'), (781, 'Tranquillity'), (782, 'Treason'), (783, 'Treasure'), (784, 'Treasures'), (785, 'Treaties'), (786, 'Treaties,'), (787, 'Treaty'), (788, 'Treaty,'), (789, 'Treaty;'), (790, 'Tribute'), (791, 'Triumph,'), (792, 'Triumph;'), (793, 'Triumvirate'), (794, 'Trophies'), (795, 'Trophies,'), (796, 'Trust,'), (797, 'Trustees'), (798, 'Turtle'), (799, 'Under'), (800, 'Underlings'), (801, 'Undertakers'), (802, 'Undertaking'), (803, 'Union'), (804, 'Union,'), (805, 'Union;'), (806, 'Universe,'), (807, 'Upon'), (808, 'Validity'), (809, 'Valour'), (810, 'Variety'), (811, 'Vassalages,'), (812, 'Vassals,'), (813, 'Veins'), (814, 'Verdicts'), (815, 'Victories;'), (816, 'View'), (817, 'Viper,'), (818, 'Vision'), (819, 'Voice'), (820, 'Vote'), (821, 'Vote,'), (822, 'Walking'), (823, 'Wall'), (824, 'War'), (825, 'War,'), (826, 'Wars'), (827, 'Watch'), (828, 'Water'), (829, 'Way,'), (830, 'We'), (831, 'Weeks'), (832, 'Welfare'), (833, 'Well-being'), (834, 'What'), (835, 'What,'), (836, 'When'), (837, 'Where'), (838, 'Whereas'), (839, 'Whether'), (840, 'Which'), (841, 'Whig'), (842, 'Whig,'), (843, 'Whip'), (844, 'Why'), (845, 'Wife'), (846, 'Will'), (847, 'Witnesses'), (848, 'Work'), (849, 'World'), (850, 'World,'), (851, 'Writs'), (852, 'Yea,'), (853, 'Year'), (854, 'Years,'), (855, 'Yet,'), (856, '[After'), (857, '[No'), (858, ']'), (859, 'a'), (860, 'able'), (861, 'abortive,'), (862, 'about'), (863, 'about,'), (864, 'above'), (865, 'abroad;'), (866, 'according'), (867, 'accountable'), (868, 'add'), (869, 'adjusted,'), (870, 'adorned'), (871, 'advanced'), (872, 'afflicting'), (873, 'afford'), (874, 'afraid'), (875, 'after'), (876, 'after,'), (877, 'after;'), (878, 'afterwards'), (879, 'again'), (880, 'again;'), (881, 'against'), (882, 'agree'), (883, 'agreeable'), (884, 'agreeing'), (885, 'all'), (886, 'all,'), (887, 'allay'), (888, 'allow'), (889, 'almost'), (890, 'also'), (891, 'altered'), (892, 'altered,'), (893, 'altogether,'), (894, 'always'), (895, 'am'), (896, 'amended,'), (897, 'among'), (898, 'amongst'), (899, 'ample'), (900, 'an'), (901, 'ancient'), (902, 'and'), (903, 'and,'), (904, 'annual'), (905, 'another'), (906, 'another,'), (907, 'answer'), (908, 'answer]'), (909, 'answerable'), (910, 'answered'), (911, 'antedated'), (912, 'anxious'), (913, 'any'), (914, 'appear'), (915, 'appeared'), (916, 'appears'), (917, 'applanded'), (918, 'applied'), (919, 'appoint'), (920, 'appointed'), (921, 'arbitrary'), (922, 'are'), (923, 'are;'), (924, 'argue'), (925, 'as'), (926, 'aside'), (927, 'at'), (928, 'attending'), (929, 'authorize'), (930, 'back'), (931, 'bad,'), (932, 'bashful'), (933, 'be'), (934, 'be,'), (935, 'beaten'), (936, 'beating'), (937, 'because'), (938, 'become'), (939, 'becomes'), (940, 'been'), (941, 'before'), (942, 'before,'), (943, 'beg'), (944, 'beg,'), (945, 'begin'), (946, 'behave'), (947, 'behind'), (948, 'being'), (949, 'beloved'), (950, 'bended'), (951, 'besides'), (952, 'besieged'), (953, 'best'), (954, 'bestowing'), (955, 'better'), (956, 'betwixt'), (957, 'blessed'), (958, 'blinded'), (959, 'bloody'), (960, 'bold'), (961, 'both'), (962, 'bound'), (963, 'brave'), (964, 'breathing'), (965, 'breeds;'), (966, 'briguing'), (967, 'brings'), (968, 'broke'), (969, 'broken,'), (970, 'brought'), (971, 'bruise'), (972, 'but'), (973, 'but,'), (974, 'by'), (975, 'call'), (976, 'called'), (977, 'calling'), (978, 'calm,'), (979, 'came'), (980, 'can'), (981, 'cannot'), (982, 'capital'), (983, 'case'), (984, 'cast'), (985, 'caught'), (986, 'certainly'), (987, 'changed'), (988, 'chief'), (989, 'choice,'), (990, 'chuses'), (991, 'civil'), (992, 'coarser,'), (993, 'come'), (994, 'comely'), (995, 'comes'), (996, 'commend'), (997, 'common'), (998, 'comparing'), (999, 'complaisant,'), (1000, 'compleat'), (1001, 'comprehends'), (1002, 'comradish'), (1003, 'concern'), (1004, 'conclude'), (1005, 'conclude,'), (1006, 'concluding'), (1007, 'condescend'), (1008, 'condescended'), (1009, 'conquered'), (1010, 'consequence,'), (1011, 'consider'), (1012, 'considerable'), (1013, 'considered'), (1014, 'considering'), (1015, 'considering,'), (1016, 'consistent'), (1017, 'contained'), (1018, 'contemptible'), (1019, 'content'), (1020, 'continued'), (1021, 'contract'), (1022, 'contrary'), (1023, 'contrive,'), (1024, 'contrived'), (1025, 'convert'), (1026, 'cordially'), (1027, 'corrected'), (1028, 'could'), (1029, 'covering'), (1030, 'crescunt'), (1031, 'crouded'), (1032, 'crowned'), (1033, 'cruel'), (1034, 'crush'), (1035, 'cursing'), (1036, 'd'), (1037, 'danger'), (1038, 'dangerous'), (1039, 'de'), (1040, 'dead'), (1041, 'deafned'), (1042, 'dear'), (1043, 'declare'), (1044, 'declared'), (1045, 'declaring'), (1046, 'deep'), (1047, 'defend'), (1048, 'delivering'), (1049, 'demolish'), (1050, 'denote'), (1051, 'depend'), (1052, 'depends'), (1053, 'descending'), (1054, 'describe'), (1055, 'design'), (1056, 'desire'), (1057, 'desiring'), (1058, 'desolate'), (1059, 'despair'), (1060, 'destroy'), (1061, 'determine'), (1062, 'determined,'), (1063, 'determines'), (1064, 'did'), (1065, 'different'), (1066, 'difficult'), (1067, 'difficulty'), (1068, 'disappointed'), (1069, 'disburden'), (1070, 'dishonourable'), (1071, 'distinct'), (1072, 'distinctly,'), (1073, 'diversity'), (1074, 'divested'), (1075, 'do'), (1076, 'don'), (1077, 'done'), (1078, 'doubt'), (1079, 'down'), (1080, 'down,'), (1081, 'down-right'), (1082, 'dreading'), (1083, 'drinking'), (1084, 'driving'), (1085, 'drooping'), (1086, 'drop'), (1087, 'dry'), (1088, 'dumb'), (1089, 'during'), (1090, 'each'), (1091, 'early'), (1092, 'earning'), (1093, 'earth'), (1094, 'easy;'), (1095, 'eat'), (1096, 'eating'), (1097, 'eclipsed'), (1098, 'effectually'), (1099, 'either'), (1100, 'empower'), (1101, 'encircling'), (1102, 'encourage'), (1103, 'end'), (1104, 'end,'), (1105, 'endeavour'), (1106, 'endeavours'), (1107, 'engaged'), (1108, 'enquire'), (1109, 'enter'), (1110, 'entire'), (1111, 'entrusted'), (1112, 'equal'), (1113, 'equal,'), (1114, 'equally'), (1115, 'ere'), (1116, 'erected'), (1117, 'established'), (1118, 'even'), (1119, 'ever'), (1120, 'every'), (1121, 'evil'), (1122, 'exacted'), (1123, 'excellent'), (1124, 'explained'), (1125, 'exposed,'), (1126, 'exposing'), (1127, 'expressed'), (1128, 'extended'), (1129, 'extinguished,'), (1130, 'factious'), (1131, 'fair'), (1132, 'fair,'), (1133, 'faithful'), (1134, 'faithfully,'), (1135, 'fall'), (1136, 'falls'), (1137, 'faltered'), (1138, 'famous'), (1139, 'far'), (1140, 'farther'), (1141, 'fashion;'), (1142, 'fatal'), (1143, 'fear'), (1144, 'federal'), (1145, 'fenced'), (1146, 'fettered'), (1147, 'few'), (1148, 'fideli,'), (1149, 'fierce,'), (1150, 'fighting'), (1151, 'fili'), (1152, 'find'), (1153, 'finding'), (1154, 'fine'), (1155, 'finer,'), (1156, 'finish'), (1157, 'finished'), (1158, 'firm,'), (1159, 'first'), (1160, 'first,'), (1161, 'fit'), (1162, 'fit;'), (1163, 'fitted'), (1164, 'follow'), (1165, 'foot'), (1166, 'footing'), (1167, 'for'), (1168, 'forbid'), (1169, 'foreign'), (1170, 'forgive'), (1171, 'formal'), (1172, 'former'), (1173, 'formerly'), (1174, 'fortified'), (1175, 'found'), (1176, 'found,'), (1177, 'founded'), (1178, 'fourth'), (1179, 'framed'), (1180, 'frankly'), (1181, 'free'), (1182, 'freely'), (1183, 'freely,'), (1184, 'frighted'), (1185, 'from'), (1186, 'full'), (1187, 'full,'), (1188, 'fully'), (1189, 'further'), (1190, 'further,'), (1191, 'gallant'), (1192, 'general,'), (1193, 'generally'), (1194, 'give'), (1195, 'gives'), (1196, 'glorious'), (1197, 'glorious,'), (1198, 'go'), (1199, 'going'), (1200, 'golden'), (1201, 'gone'), (1202, 'gone,'), (1203, 'good'), (1204, 'got'), (1205, 'gracious'), (1206, 'graciously'), (1207, 'grasping'), (1208, 'gravelled'), (1209, 'great'), (1210, 'great,'), (1211, 'greater'), (1212, 'greatest'), (1213, 'guilty'), (1214, 'gushed'), (1215, 'habitable'), (1216, 'had'), (1217, 'handed'), (1218, 'hanging'), (1219, 'happy'), (1220, 'happy;'), (1221, 'hard'), (1222, 'hardened'), (1223, 'has'), (1224, 'hath'), (1225, 'have'), (1226, 'having'), (1227, 'having,'), (1228, 'he'), (1229, 'head'), (1230, 'headlong'), (1231, 'hear'), (1232, 'heard'), (1233, 'hearted'), (1234, 'heartily'), (1235, 'hedged'), (1236, 'her'), (1237, 'her,'), (1238, 'here,'), (1239, 'here;'), (1240, 'herself'), (1241, 'heterogeneous'), (1242, 'hid'), (1243, 'high-minded,'), (1244, 'him'), (1245, 'him,'), (1246, 'him;'), (1247, 'himself'), (1248, 'himself,'), (1249, 'himself;'), (1250, 'hinder'), (1251, 'hinders'), (1252, 'his'), (1253, 'hold'), (1254, 'home'), (1255, 'honest'), (1256, 'honorable'), (1257, 'honourable'), (1258, 'hope,'), (1259, 'how'), (1260, 'humble'), (1261, 'humbly'), (1262, 'idea'), (1263, 'if'), (1264, 'ill-made'), (1265, 'illustrious'), (1266, 'immortal'), (1267, 'important'), (1268, 'in'), (1269, 'in,'), (1270, 'incorporating'), (1271, 'incurable'), (1272, 'indeed'), (1273, 'independent'), (1274, 'independent,'), (1275, 'individual'), (1276, 'induced'), (1277, 'industrious'), (1278, 'inferred;'), (1279, 'inform'), (1280, 'informed,'), (1281, 'insist'), (1282, 'intend'), (1283, 'intervening,'), (1284, 'into'), (1285, 'into,'), (1286, 'is'), (1287, 'is,'), (1288, 'it'), (1289, 'it,'), (1290, 'it;'), (1291, 'its'), (1292, 'itself;'), (1293, 'jure'), (1294, 'justly'), (1295, 'keep,'), (1296, 'kept'), (1297, 'killed'), (1298, 'kind'), (1299, 'knew'), (1300, 'know'), (1301, 'known'), (1302, 'known;'), (1303, 'laborious'), (1304, 'laid'), (1305, 'last'), (1306, 'lastly,'), (1307, 'late,'), (1308, 'lay'), (1309, 'laying'), (1310, 'learn'), (1311, 'learned'), (1312, 'least'), (1313, 'leathern'), (1314, 'leave'), (1315, 'led'), (1316, 'left'), (1317, 'legal'), (1318, 'legislative'), (1319, 'length'), (1320, 'less'), (1321, 'lest'), (1322, 'let'), (1323, 'liberty'), (1324, 'lies'), (1325, 'like'), (1326, 'likewise,'), (1327, 'll'), (1328, 'loaded'), (1329, 'long'), (1330, 'look'), (1331, 'looked'), (1332, 'looking'), (1333, 'looks'), (1334, 'lose'), (1335, 'loss'), (1336, 'loves'), (1337, 'loyal,'), (1338, 'made'), (1339, 'maintained'), (1340, 'make'), (1341, 'makes'), (1342, 'making'), (1343, 'manage'), (1344, 'managed'), (1345, 'managed,'), (1346, 'manner'), (1347, 'many'), (1348, 'married'), (1349, 'marry'), (1350, 'marry;'), (1351, 'material'), (1352, 'maugre'), (1353, 'may'), (1354, 'me'), (1355, 'me;'), (1356, 'mean'), (1357, 'meanest'), (1358, 'meet'), (1359, 'melancholy'), (1360, 'melted'), (1361, 'memorable'), (1362, 'merits'), (1363, 'merry'), (1364, 'mi'), (1365, 'midst'), (1366, 'might'), (1367, 'minatory'), (1368, 'mind'), (1369, 'miserable'), (1370, 'mixed'), (1371, 'more'), (1372, 'mortal'), (1373, 'most'), (1374, 'much'), (1375, 'municipal'), (1376, 'must'), (1377, 'my'), (1378, 'myself'), (1379, 'myself,'), (1380, 'naked'), (1381, 'narrate'), (1382, 'narrowly'), (1383, 'national'), (1384, 'natural'), (1385, 'necessary'), (1386, 'necessary;'), (1387, 'necessitate'), (1388, 'need,'), (1389, 'neither'), (1390, 'never'), (1391, 'new'), (1392, 'new;'), (1393, 'next'), (1394, 'no'), (1395, 'no,'), (1396, 'noble'), (1397, 'nor'), (1398, 'not'), (1399, 'nothing'), (1400, 'notice'), (1401, 'notice,'), (1402, 'notwithstanding'), (1403, 'now'), (1404, 'now,'), (1405, 'obedient'), (1406, 'obey,'), (1407, 'obligatory'), (1408, 'obscure'), (1409, 'obscure,'), (1410, 'observed,'), (1411, 'obstinate,'), (1412, 'obvious'), (1413, 'occasion'), (1414, 'occasions'), (1415, 'of'), (1416, 'off'), (1417, 'often,'), (1418, 'old'), (1419, 'old,'), (1420, 'on'), (1421, 'once'), (1422, 'one'), (1423, 'one;'), (1424, 'only'), (1425, 'only,'), (1426, 'open'), (1427, 'opening'), (1428, 'opima,'), (1429, 'or'), (1430, 'order'), (1431, 'other'), (1432, 'other,'), (1433, 'others'), (1434, 'others,'), (1435, 'otherwise'), (1436, 'otherwise,'), (1437, 'our'), (1438, 'ours'), (1439, 'ourselves,'), (1440, 'out'), (1441, 'out,'), (1442, 'outshoot'), (1443, 'over'), (1444, 'over-run'), (1445, 'over-weening'), (1446, 'own'), (1447, 'paid'), (1448, 'part'), (1449, 'particular'), (1450, 'particularly'), (1451, 'parvÃ¦'), (1452, 'passed'), (1453, 'passing'), (1454, 'past,'), (1455, 'pave'), (1456, 'pay'), (1457, 'peace,'), (1458, 'peaceful,'), (1459, 'perceive'), (1460, 'perish'), (1461, 'perpetual'), (1462, 'personal'), (1463, 'persuade'), (1464, 'petitioning'), (1465, 'petty'), (1466, 'piece'), (1467, 'piece,'), (1468, 'piece;'), (1469, 'place'), (1470, 'pleased'), (1471, 'pointed,'), (1472, 'political'), (1473, 'poor'), (1474, 'positive'), (1475, 'practicable,'), (1476, 'precarious;'), (1477, 'present'), (1478, 'present,'), (1479, 'preserve'), (1480, 'pretty'), (1481, 'prevented'), (1482, 'previous'), (1483, 'previously'), (1484, 'private'), (1485, 'probable'), (1486, 'proceed'), (1487, 'profess'), (1488, 'prohibitory'), (1489, 'proper'), (1490, 'propose'), (1491, 'propose,'), (1492, 'proposed'), (1493, 'protected'), (1494, 'prove'), (1495, 'prove,'), (1496, 'proved'), (1497, 'provided'), (1498, 'prudent'), (1499, 'prudently'), (1500, 'punished'), (1501, 'purchased'), (1502, 'pursue'), (1503, 'pussed'), (1504, 'put'), (1505, 'putting'), (1506, 'quiet'), (1507, 'quite'), (1508, 'quondam'), (1509, 'quoque'), (1510, 'read'), (1511, 'read,'), (1512, 'reasoning'), (1513, 'receive'), (1514, 'receives'), (1515, 'reduced'), (1516, 'refuse'), (1517, 'relates'), (1518, 'relation'), (1519, 'relieved,'), (1520, 'remaining'), (1521, 'remains'), (1522, 'remains,'), (1523, 'remember,'), (1524, 'remote'), (1525, 'removed'), (1526, 'removing'), (1527, 'rendering'), (1528, 'renders'), (1529, 'renew'), (1530, 'repeated'), (1531, 'represent'), (1532, 'represents'), (1533, 'require,'), (1534, 'res'), (1535, 'reserved'), (1536, 'resolve'), (1537, 'resolved'), (1538, 'respect'), (1539, 'rest'), (1540, 'rest,'), (1541, 'retain'), (1542, 'return'), (1543, 'reverence'), (1544, 'revising'), (1545, 'rich,'), (1546, 'riding'), (1547, 'right'), (1548, 'root,'), (1549, 'round'), (1550, 'routed,'), (1551, 'rouze'), (1552, 'royal'), (1553, 'ruefully'), (1554, 's'), (1555, 's,'), (1556, 'sacred'), (1557, 'sad'), (1558, 'said'), (1559, 'said;'), (1560, 'saltless'), (1561, 'same'), (1562, 'sat'), (1563, 'satisfactory,'), (1564, 'satisfy'), (1565, 'save'), (1566, 'say'), (1567, 'say,'), (1568, 'say;'), (1569, 'scrupulous'), (1570, 'searching'), (1571, 'seasonably'), (1572, 'seconded'), (1573, 'secure'), (1574, 'secured'), (1575, 'secured;'), (1576, 'see'), (1577, 'seeds'), (1578, 'seem'), (1579, 'seemed'), (1580, 'seems'), (1581, 'seize'), (1582, 'self'), (1583, 'selves'), (1584, 'sent'), (1585, 'sentiments'), (1586, 'serious'), (1587, 'serve'), (1588, 'settered,'), (1589, 'setting'), (1590, 'several'), (1591, 'sewed'), (1592, 'shall'), (1593, 'shameful'), (1594, 'shed'), (1595, 'shelter'), (1596, 'shew'), (1597, 'shewing,'), (1598, 'short,'), (1599, 'should'), (1600, 'since'), (1601, 'single'), (1602, 'sit'), (1603, 'sitting'), (1604, 'small'), (1605, 'so'), (1606, 'so,'), (1607, 'some'), (1608, 'something'), (1609, 'sometimes'), (1610, 'somewhat'), (1611, 'soon'), (1612, 'sorry'), (1613, 'sown,'), (1614, 'speak'), (1615, 'speaks'), (1616, 'split'), (1617, 'spoiling'), (1618, 'spoke'), (1619, 'spolia'), (1620, 'square'), (1621, 'stand'), (1622, 'standing'), (1623, 'stop'), (1624, 'strange'), (1625, 'strictest'), (1626, 'strive'), (1627, 'strong'), (1628, 'struggled'), (1629, 'studying'), (1630, 'subdued'), (1631, 'subject'), (1632, 'subjected'), (1633, 'succeed'), (1634, 'successful'), (1635, 'successive'), (1636, 'such'), (1637, 'such,'), (1638, 'suffered'), (1639, 'sufficiency'), (1640, 'suggested'), (1641, 'suppose'), (1642, 'surprising;'), (1643, 't'), (1644, 'take'), (1645, 'taken'), (1646, 'taken,'), (1647, 'takes'), (1648, 'taking'), (1649, 'tell'), (1650, 'ten'), (1651, 'tend'), (1652, 'termed'), (1653, 'than'), (1654, 'that'), (1655, 'that,'), (1656, 'the'), (1657, 'their'), (1658, 'them'), (1659, 'them,'), (1660, 'them;'), (1661, 'themselves'), (1662, 'themselves,'), (1663, 'then'), (1664, 'then,'), (1665, 'there'), (1666, 'therefore'), (1667, 'therefore,'), (1668, 'therein'), (1669, 'thereof,'), (1670, 'thereupon'), (1671, 'these'), (1672, 'these,'), (1673, 'they'), (1674, 'thing'), (1675, 'thing,'), (1676, 'things'), (1677, 'think'), (1678, 'think,'), (1679, 'thinks'), (1680, 'this'), (1681, 'this,'), (1682, 'tho'), (1683, 'thou'), (1684, 'though'), (1685, 'thought'), (1686, 'threads,'), (1687, 'threatning'), (1688, 'three'), (1689, 'through'), (1690, 'thrown'), (1691, 'thus'), (1692, 'thy'), (1693, 'tied'), (1694, 'till'), (1695, 'time'), (1696, 'time,'), (1697, 'time;'), (1698, 'timely'), (1699, 'times'), (1700, 'to'), (1701, 'to,'), (1702, 'to;'), (1703, 'together'), (1704, 'together,'), (1705, 'too'), (1706, 'trading'), (1707, 'treat'), (1708, 'treat,'), (1709, 'treating'), (1710, 'triumphal'), (1711, 'trivial'), (1712, 'troublesome'), (1713, 'true'), (1714, 'true-blue'), (1715, 'tu'), (1716, 'turn'), (1717, 'turned'), (1718, 'two'), (1719, 'unaccountable'), (1720, 'unbind'), (1721, 'uncertain'), (1722, 'under'), (1723, 'understanding'), (1724, 'understood'), (1725, 'understood,'), (1726, 'undertake'), (1727, 'unequal'), (1728, 'unforeseen'), (1729, 'unite'), (1730, 'unite;'), (1731, 'united,'), (1732, 'unjust'), (1733, 'unkind'), (1734, 'unnatural'), (1735, 'unnecessary'), (1736, 'unpopular'), (1737, 'unsuccessful'), (1738, 'unto'), (1739, 'up'), (1740, 'upon'), (1741, 'us'), (1742, 'us,'), (1743, 'us;'), (1744, 'use'), (1745, 'used'), (1746, 'valiant'), (1747, 'valid'), (1748, 'valorous,'), (1749, 'various'), (1750, 'vast'), (1751, 'venture'), (1752, 'very'), (1753, 'victorious,'), (1754, 'vivify'), (1755, 'voluntarily'), (1756, 'walking'), (1757, 'want'), (1758, 'warlike'), (1759, 'warn'), (1760, 'was'), (1761, 'waste'), (1762, 'way'), (1763, 'ways'), (1764, 'we'), (1765, 'weighty'), (1766, 'well'), (1767, 'well,'), (1768, 'were'), (1769, 'were,'), (1770, 'what'), (1771, 'when'), (1772, 'where'), (1773, 'whereas'), (1774, 'whereby'), (1775, 'whether'), (1776, 'which'), (1777, 'which,'), (1778, 'while'), (1779, 'whip'), (1780, 'who'), (1781, 'who,'), (1782, 'whole'), (1783, 'wholly'), (1784, 'whom'), (1785, 'whose'), (1786, 'will'), (1787, 'will,'), (1788, 'willing'), (1789, 'wise'), (1790, 'wish'), (1791, 'wit,'), (1792, 'with'), (1793, 'within'), (1794, 'without'), (1795, 'wormed'), (1796, 'worse'), (1797, 'worst'), (1798, 'worth'), (1799, 'would'), (1800, 'ye'), (1801, 'yea,'), (1802, 'yet'), (1803, 'you'), (1804, 'you,'), (1805, 'youngest'), (1806, 'your'), (1807, 'Ã†sop')])"
      ]
     },
     "execution_count": 23,
     "metadata": {},
     "output_type": "execute_result"
    }
   ],
   "source": [
    "reverse_vocab = {index:token for token,index in vocab.items()}\n",
    "reverse_vocab.items()"
   ]
  },
  {
   "cell_type": "code",
   "execution_count": 24,
   "id": "bb114e77",
   "metadata": {},
   "outputs": [
    {
     "name": "stdout",
     "output_type": "stream",
     "text": [
      "I think I see a free and independent Kingdom delivering up that, which all the World hath been fighting for since the Days of Nimrod; yea, that for which most of all the Empires, Kingdoms, States, Principalities, and Dukedoms of Europe, are at this time engaged in the most bloody and cruel Wars that ever were, to wit, a Power to manage their own Affairs by themselves, without the Assistance and Counsel of any other .\n"
     ]
    }
   ],
   "source": [
    "print( \" \".join([ reverse_vocab[id] for id in ids]))"
   ]
  },
  {
   "cell_type": "code",
   "execution_count": 25,
   "id": "e06eba80",
   "metadata": {},
   "outputs": [],
   "source": [
    "class SimpleTokenizer:\n",
    "    def __init__(self, vocab):\n",
    "        self.str_to_int = vocab\n",
    "        self.int_to_str = {index:token for token, index in vocab.items()}\n",
    "\n",
    "    def encode(self, text):\n",
    "        tokens = re.split( r'([.?!:())\"\\'“”‘’^]|\\s)', text)\n",
    "        tokens = [ item if item in self.str_to_int else \"<|unk|>\" for item in tokens if item.split() ]\n",
    "        ids = [ self.str_to_int[token] for token in tokens]\n",
    "        return ids\n",
    "\n",
    "    def decode(self, ids):\n",
    "        text = \" \".join([self.int_to_str[id] for id in ids])\n",
    "        text = re.sub( r'\\s+([.?!:())\"\\'“”‘’^])', r'\\1', text )\n",
    "        return text\n"
   ]
  },
  {
   "cell_type": "code",
   "execution_count": 26,
   "id": "dbaeb9d4",
   "metadata": {},
   "outputs": [],
   "source": [
    "tokenizer = SimpleTokenizer(vocab)"
   ]
  },
  {
   "cell_type": "code",
   "execution_count": 27,
   "id": "dd3907d7",
   "metadata": {},
   "outputs": [],
   "source": [
    "phrase = \"their Enemies subdued and routed, their strong Holds besieged and taken, Sieges relieved, Marshals killed and taken Prisoners, Provinces and Kingdoms are the Results of their Victories; their Royal Navy is the Terror of Europe, their Trade and Commerce extended through the Universe, encircling the whole habitable World, and rendering their own capital City the Emporium for the whole Inhabitants of the earth\""
   ]
  },
  {
   "cell_type": "code",
   "execution_count": 28,
   "id": "8efa720f",
   "metadata": {},
   "outputs": [
    {
     "name": "stdout",
     "output_type": "stream",
     "text": [
      "[1657, 241, 1630, 902, 1550, 1657, 1627, 342, 952, 902, 1646, 678, 1519, 447, 1297, 902, 1645, 592, 604, 902, 400, 922, 1656, 640, 1415, 1657, 815, 1657, 650, 494, 1286, 1656, 740, 1415, 257, 1657, 777, 902, 129, 1128, 1689, 1656, 806, 1101, 1656, 1782, 1215, 850, 902, 1527, 1657, 1446, 982, 117, 1656, 238, 1167, 1656, 1782, 373, 1415, 1656, 1093]\n"
     ]
    }
   ],
   "source": [
    "ids = tokenizer.encode( phrase )\n",
    "print(ids)"
   ]
  },
  {
   "cell_type": "code",
   "execution_count": 29,
   "id": "214bc6d8",
   "metadata": {},
   "outputs": [
    {
     "name": "stdout",
     "output_type": "stream",
     "text": [
      "their Enemies subdued and routed, their strong Holds besieged and taken, Sieges relieved, Marshals killed and taken Prisoners, Provinces and Kingdoms are the Results of their Victories; their Royal Navy is the Terror of Europe, their Trade and Commerce extended through the Universe, encircling the whole habitable World, and rendering their own capital City the Emporium for the whole Inhabitants of the earth\n"
     ]
    }
   ],
   "source": [
    "text = tokenizer.decode(ids)\n",
    "print(text)"
   ]
  },
  {
   "cell_type": "code",
   "execution_count": 30,
   "id": "cf5539a6",
   "metadata": {},
   "outputs": [],
   "source": [
    "phrase = \"Where will this end, my Lord?\""
   ]
  },
  {
   "cell_type": "code",
   "execution_count": 31,
   "id": "d4fe7a14",
   "metadata": {},
   "outputs": [
    {
     "name": "stdout",
     "output_type": "stream",
     "text": [
      "[837, 1786, 1680, 1104, 1377, 427, 12]\n"
     ]
    }
   ],
   "source": [
    "ids = tokenizer.encode( phrase )\n",
    "print(ids)"
   ]
  },
  {
   "cell_type": "code",
   "execution_count": 32,
   "id": "9d3fb985",
   "metadata": {},
   "outputs": [
    {
     "name": "stdout",
     "output_type": "stream",
     "text": [
      "Where will this end, my Lord?\n"
     ]
    }
   ],
   "source": [
    "text = tokenizer.decode(ids)\n",
    "print(text)"
   ]
  },
  {
   "cell_type": "code",
   "execution_count": 33,
   "id": "0cf4d107",
   "metadata": {},
   "outputs": [],
   "source": [
    "import tiktoken"
   ]
  },
  {
   "cell_type": "code",
   "execution_count": 34,
   "id": "28da180d",
   "metadata": {},
   "outputs": [],
   "source": [
    "tokenizer = tiktoken.get_encoding(\"gpt2\")"
   ]
  },
  {
   "cell_type": "code",
   "execution_count": 35,
   "id": "8ef04528",
   "metadata": {},
   "outputs": [
    {
     "name": "stdout",
     "output_type": "stream",
     "text": [
      "[8496, 481, 428, 886, 11, 616, 4453, 30]\n"
     ]
    }
   ],
   "source": [
    "ids = tokenizer.encode(phrase)\n",
    "print(ids)"
   ]
  },
  {
   "cell_type": "code",
   "execution_count": 36,
   "id": "3af28a0d",
   "metadata": {},
   "outputs": [],
   "source": [
    "phrase = \"I'll get you tokenizer try this: “”‘’ sfdgjhsdfjzshfd\""
   ]
  },
  {
   "cell_type": "code",
   "execution_count": 37,
   "id": "a44957a5",
   "metadata": {},
   "outputs": [
    {
     "name": "stdout",
     "output_type": "stream",
     "text": [
      "[40, 1183, 651, 345, 11241, 7509, 1949, 428, 25, 564, 250, 447, 251, 447, 246, 447, 247, 264, 16344, 70, 73, 11994, 7568, 73, 89, 1477, 16344]\n"
     ]
    }
   ],
   "source": [
    "ids = tokenizer.encode(phrase)\n",
    "print(ids)"
   ]
  },
  {
   "cell_type": "code",
   "execution_count": 38,
   "id": "00f916be",
   "metadata": {},
   "outputs": [
    {
     "data": {
      "text/plain": [
       "\"I'll get you tokenizer try this: “”‘’ sfdgjhsdfjzshfd\""
      ]
     },
     "execution_count": 38,
     "metadata": {},
     "output_type": "execute_result"
    }
   ],
   "source": [
    "tokenizer.decode(ids)"
   ]
  },
  {
   "cell_type": "code",
   "execution_count": null,
   "id": "c12d0723",
   "metadata": {},
   "outputs": [],
   "source": []
  }
 ],
 "metadata": {
  "kernelspec": {
   "display_name": "Python 3",
   "language": "python",
   "name": "python3"
  },
  "language_info": {
   "codemirror_mode": {
    "name": "ipython",
    "version": 3
   },
   "file_extension": ".py",
   "mimetype": "text/x-python",
   "name": "python",
   "nbconvert_exporter": "python",
   "pygments_lexer": "ipython3",
   "version": "3.13.7"
  }
 },
 "nbformat": 4,
 "nbformat_minor": 5
}
